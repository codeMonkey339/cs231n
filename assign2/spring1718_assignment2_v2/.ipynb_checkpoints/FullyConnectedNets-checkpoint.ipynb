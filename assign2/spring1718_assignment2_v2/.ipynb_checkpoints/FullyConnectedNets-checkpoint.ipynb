{
 "cells": [
  {
   "cell_type": "markdown",
   "metadata": {},
   "source": [
    "# Fully-Connected Neural Nets\n",
    "In the previous homework you implemented a fully-connected two-layer neural network on CIFAR-10. The implementation was simple but not very modular since the loss and gradient were computed in a single monolithic function. This is manageable for a simple two-layer network, but would become impractical as we move to bigger models. Ideally we want to build networks using a more modular design so that we can implement different layer types in isolation and then snap them together into models with different architectures.\n",
    "\n",
    "In this exercise we will implement fully-connected networks using a more modular approach. For each layer we will implement a `forward` and a `backward` function. The `forward` function will receive inputs, weights, and other parameters and will return both an output and a `cache` object storing data needed for the backward pass, like this:\n",
    "\n",
    "```python\n",
    "def layer_forward(x, w):\n",
    "  \"\"\" Receive inputs x and weights w \"\"\"\n",
    "  # Do some computations ...\n",
    "  z = # ... some intermediate value\n",
    "  # Do some more computations ...\n",
    "  out = # the output\n",
    "   \n",
    "  cache = (x, w, z, out) # Values we need to compute gradients\n",
    "   \n",
    "  return out, cache\n",
    "```\n",
    "\n",
    "The backward pass will receive upstream derivatives and the `cache` object, and will return gradients with respect to the inputs and weights, like this:\n",
    "\n",
    "```python\n",
    "def layer_backward(dout, cache):\n",
    "  \"\"\"\n",
    "  Receive dout (derivative of loss with respect to outputs) and cache,\n",
    "  and compute derivative with respect to inputs.\n",
    "  \"\"\"\n",
    "  # Unpack cache values\n",
    "  x, w, z, out = cache\n",
    "  \n",
    "  # Use values in cache to compute derivatives\n",
    "  dx = # Derivative of loss with respect to x\n",
    "  dw = # Derivative of loss with respect to w\n",
    "  \n",
    "  return dx, dw\n",
    "```\n",
    "\n",
    "After implementing a bunch of layers this way, we will be able to easily combine them to build classifiers with different architectures.\n",
    "\n",
    "In addition to implementing fully-connected networks of arbitrary depth, we will also explore different update rules for optimization, and introduce Dropout as a regularizer and Batch/Layer Normalization as a tool to more efficiently optimize deep networks.\n",
    "  "
   ]
  },
  {
   "cell_type": "code",
   "execution_count": 1,
   "metadata": {
    "collapsed": false
   },
   "outputs": [
    {
     "name": "stdout",
     "output_type": "stream",
     "text": [
      "run the following from the cs231n directory and try again:\n",
      "python setup.py build_ext --inplace\n",
      "You may also need to restart your iPython kernel\n"
     ]
    }
   ],
   "source": [
    "# As usual, a bit of setup\n",
    "from __future__ import print_function\n",
    "import time\n",
    "import numpy as np\n",
    "import matplotlib.pyplot as plt\n",
    "from cs231n.classifiers.fc_net import *\n",
    "from cs231n.data_utils import get_CIFAR10_data\n",
    "from cs231n.gradient_check import eval_numerical_gradient, eval_numerical_gradient_array\n",
    "from cs231n.solver import Solver\n",
    "\n",
    "%matplotlib inline\n",
    "plt.rcParams['figure.figsize'] = (10.0, 8.0) # set default size of plots\n",
    "plt.rcParams['image.interpolation'] = 'nearest'\n",
    "plt.rcParams['image.cmap'] = 'gray'\n",
    "\n",
    "# for auto-reloading external modules\n",
    "# see http://stackoverflow.com/questions/1907993/autoreload-of-modules-in-ipython\n",
    "%load_ext autoreload\n",
    "%autoreload 2\n",
    "\n",
    "def rel_error(x, y):\n",
    "  \"\"\" returns relative error \"\"\"\n",
    "  return np.max(np.abs(x - y) / (np.maximum(1e-8, np.abs(x) + np.abs(y))))"
   ]
  },
  {
   "cell_type": "code",
   "execution_count": 2,
   "metadata": {
    "collapsed": false
   },
   "outputs": [
    {
     "name": "stdout",
     "output_type": "stream",
     "text": [
      "('X_train: ', (49000, 3, 32, 32))\n",
      "('y_train: ', (49000,))\n",
      "('X_val: ', (1000, 3, 32, 32))\n",
      "('y_val: ', (1000,))\n",
      "('X_test: ', (1000, 3, 32, 32))\n",
      "('y_test: ', (1000,))\n"
     ]
    }
   ],
   "source": [
    "# Load the (preprocessed) CIFAR10 data.\n",
    "\n",
    "data = get_CIFAR10_data()\n",
    "for k, v in list(data.items()):\n",
    "  print(('%s: ' % k, v.shape))"
   ]
  },
  {
   "cell_type": "markdown",
   "metadata": {},
   "source": [
    "# Affine layer: foward\n",
    "Open the file `cs231n/layers.py` and implement the `affine_forward` function.\n",
    "\n",
    "Once you are done you can test your implementaion by running the following:"
   ]
  },
  {
   "cell_type": "code",
   "execution_count": 15,
   "metadata": {
    "collapsed": false
   },
   "outputs": [
    {
     "name": "stdout",
     "output_type": "stream",
     "text": [
      "Testing affine_forward function:\n",
      "difference:  9.76984946819e-10\n"
     ]
    }
   ],
   "source": [
    "# Test the affine_forward function\n",
    "\n",
    "num_inputs = 2\n",
    "input_shape = (4, 5, 6)\n",
    "output_dim = 3\n",
    "\n",
    "input_size = num_inputs * np.prod(input_shape)\n",
    "weight_size = output_dim * np.prod(input_shape)\n",
    "\n",
    "x = np.linspace(-0.1, 0.5, num=input_size).reshape(num_inputs, *input_shape)\n",
    "w = np.linspace(-0.2, 0.3, num=weight_size).reshape(np.prod(input_shape), output_dim)\n",
    "b = np.linspace(-0.3, 0.1, num=output_dim)\n",
    "\n",
    "out, _ = affine_forward(x, w, b)\n",
    "correct_out = np.array([[ 1.49834967,  1.70660132,  1.91485297],\n",
    "                        [ 3.25553199,  3.5141327,   3.77273342]])\n",
    "\n",
    "# Compare your output with ours. The error should be around e-9 or less.\n",
    "print('Testing affine_forward function:')\n",
    "print('difference: ', rel_error(out, correct_out))"
   ]
  },
  {
   "cell_type": "markdown",
   "metadata": {},
   "source": [
    "# Affine layer: backward\n",
    "Now implement the `affine_backward` function and test your implementation using numeric gradient checking."
   ]
  },
  {
   "cell_type": "code",
   "execution_count": 16,
   "metadata": {
    "collapsed": false
   },
   "outputs": [
    {
     "name": "stdout",
     "output_type": "stream",
     "text": [
      "Testing affine_backward function:\n",
      "dx error:  5.39910036865e-11\n",
      "dw error:  9.9042118654e-11\n",
      "db error:  2.41228675681e-11\n"
     ]
    }
   ],
   "source": [
    "# Test the affine_backward function\n",
    "np.random.seed(231)\n",
    "x = np.random.randn(10, 2, 3)\n",
    "w = np.random.randn(6, 5)\n",
    "b = np.random.randn(5)\n",
    "dout = np.random.randn(10, 5)\n",
    "\n",
    "dx_num = eval_numerical_gradient_array(lambda x: affine_forward(x, w, b)[0], x, dout)\n",
    "dw_num = eval_numerical_gradient_array(lambda w: affine_forward(x, w, b)[0], w, dout)\n",
    "db_num = eval_numerical_gradient_array(lambda b: affine_forward(x, w, b)[0], b, dout)\n",
    "\n",
    "_, cache = affine_forward(x, w, b)\n",
    "dx, dw, db = affine_backward(dout, cache)\n",
    "\n",
    "# The error should be around e-10 or less\n",
    "print('Testing affine_backward function:')\n",
    "print('dx error: ', rel_error(dx_num, dx))\n",
    "print('dw error: ', rel_error(dw_num, dw))\n",
    "print('db error: ', rel_error(db_num, db))"
   ]
  },
  {
   "cell_type": "markdown",
   "metadata": {},
   "source": [
    "# ReLU activation: forward\n",
    "Implement the forward pass for the ReLU activation function in the `relu_forward` function and test your implementation using the following:"
   ]
  },
  {
   "cell_type": "code",
   "execution_count": 17,
   "metadata": {
    "collapsed": false
   },
   "outputs": [
    {
     "name": "stdout",
     "output_type": "stream",
     "text": [
      "Testing relu_forward function:\n",
      "difference:  4.99999979802e-08\n"
     ]
    }
   ],
   "source": [
    "# Test the relu_forward function\n",
    "\n",
    "x = np.linspace(-0.5, 0.5, num=12).reshape(3, 4)\n",
    "\n",
    "out, _ = relu_forward(x)\n",
    "correct_out = np.array([[ 0.,          0.,          0.,          0.,        ],\n",
    "                        [ 0.,          0.,          0.04545455,  0.13636364,],\n",
    "                        [ 0.22727273,  0.31818182,  0.40909091,  0.5,       ]])\n",
    "\n",
    "# Compare your output with ours. The error should be on the order of e-8\n",
    "print('Testing relu_forward function:')\n",
    "print('difference: ', rel_error(out, correct_out))"
   ]
  },
  {
   "cell_type": "markdown",
   "metadata": {},
   "source": [
    "# ReLU activation: backward\n",
    "Now implement the backward pass for the ReLU activation function in the `relu_backward` function and test your implementation using numeric gradient checking:"
   ]
  },
  {
   "cell_type": "code",
   "execution_count": 18,
   "metadata": {
    "collapsed": false
   },
   "outputs": [
    {
     "name": "stdout",
     "output_type": "stream",
     "text": [
      "Testing relu_backward function:\n",
      "dx error:  3.27563491363e-12\n"
     ]
    }
   ],
   "source": [
    "np.random.seed(231)\n",
    "x = np.random.randn(10, 10)\n",
    "dout = np.random.randn(*x.shape)\n",
    "\n",
    "dx_num = eval_numerical_gradient_array(lambda x: relu_forward(x)[0], x, dout)\n",
    "\n",
    "_, cache = relu_forward(x)\n",
    "dx = relu_backward(dout, cache)\n",
    "\n",
    "# The error should be on the order of e-12\n",
    "print('Testing relu_backward function:')\n",
    "print('dx error: ', rel_error(dx_num, dx))"
   ]
  },
  {
   "cell_type": "markdown",
   "metadata": {},
   "source": [
    "## Inline Question 1: \n",
    "\n",
    "We've only asked you to implement ReLU, but there are a number of different activation functions that one could use in neural networks, each with its pros and cons. In particular, an issue commonly seen with activation functions is getting zero (or close to zero) gradient flow during backpropagation. Which of the following activation functions have this problem? If you consider these functions in the one dimensional case, what types of input would lead to this behaviour?\n",
    "1. Sigmoid\n",
    "2. ReLU\n",
    "3. Leaky ReLU"
   ]
  },
  {
   "cell_type": "markdown",
   "metadata": {},
   "source": [
    "## Answer:\n",
    "[FILL THIS IN]\n"
   ]
  },
  {
   "cell_type": "markdown",
   "metadata": {},
   "source": [
    "# \"Sandwich\" layers\n",
    "There are some common patterns of layers that are frequently used in neural nets. For example, affine layers are frequently followed by a ReLU nonlinearity. To make these common patterns easy, we define several convenience layers in the file `cs231n/layer_utils.py`.\n",
    "\n",
    "For now take a look at the `affine_relu_forward` and `affine_relu_backward` functions, and run the following to numerically gradient check the backward pass:"
   ]
  },
  {
   "cell_type": "code",
   "execution_count": 19,
   "metadata": {
    "collapsed": false
   },
   "outputs": [
    {
     "name": "stdout",
     "output_type": "stream",
     "text": [
      "Testing affine_relu_forward and affine_relu_backward:\n",
      "dx error:  2.29957917731e-11\n",
      "dw error:  8.16201110576e-11\n",
      "db error:  7.82672402146e-12\n"
     ]
    }
   ],
   "source": [
    "from cs231n.layer_utils import affine_relu_forward, affine_relu_backward\n",
    "np.random.seed(231)\n",
    "x = np.random.randn(2, 3, 4)\n",
    "w = np.random.randn(12, 10)\n",
    "b = np.random.randn(10)\n",
    "dout = np.random.randn(2, 10)\n",
    "\n",
    "out, cache = affine_relu_forward(x, w, b)\n",
    "dx, dw, db = affine_relu_backward(dout, cache)\n",
    "\n",
    "dx_num = eval_numerical_gradient_array(lambda x: affine_relu_forward(x, w, b)[0], x, dout)\n",
    "dw_num = eval_numerical_gradient_array(lambda w: affine_relu_forward(x, w, b)[0], w, dout)\n",
    "db_num = eval_numerical_gradient_array(lambda b: affine_relu_forward(x, w, b)[0], b, dout)\n",
    "\n",
    "# Relative error should be around e-10 or less\n",
    "print('Testing affine_relu_forward and affine_relu_backward:')\n",
    "print('dx error: ', rel_error(dx_num, dx))\n",
    "print('dw error: ', rel_error(dw_num, dw))\n",
    "print('db error: ', rel_error(db_num, db))"
   ]
  },
  {
   "cell_type": "markdown",
   "metadata": {},
   "source": [
    "# Loss layers: Softmax and SVM\n",
    "You implemented these loss functions in the last assignment, so we'll give them to you for free here. You should still make sure you understand how they work by looking at the implementations in `cs231n/layers.py`.\n",
    "\n",
    "You can make sure that the implementations are correct by running the following:"
   ]
  },
  {
   "cell_type": "code",
   "execution_count": 20,
   "metadata": {
    "collapsed": false
   },
   "outputs": [
    {
     "name": "stdout",
     "output_type": "stream",
     "text": [
      "Testing svm_loss:\n",
      "loss:  8.9996027491\n",
      "dx error:  1.40215660067e-09\n",
      "\n",
      "Testing softmax_loss:\n",
      "loss:  2.3025458445\n",
      "dx error:  9.38467316199e-09\n"
     ]
    }
   ],
   "source": [
    "np.random.seed(231)\n",
    "num_classes, num_inputs = 10, 50\n",
    "x = 0.001 * np.random.randn(num_inputs, num_classes)\n",
    "y = np.random.randint(num_classes, size=num_inputs)\n",
    "\n",
    "dx_num = eval_numerical_gradient(lambda x: svm_loss(x, y)[0], x, verbose=False)\n",
    "loss, dx = svm_loss(x, y)\n",
    "\n",
    "# Test svm_loss function. Loss should be around 9 and dx error should be around the order of e-9\n",
    "print('Testing svm_loss:')\n",
    "print('loss: ', loss)\n",
    "print('dx error: ', rel_error(dx_num, dx))\n",
    "\n",
    "dx_num = eval_numerical_gradient(lambda x: softmax_loss(x, y)[0], x, verbose=False)\n",
    "loss, dx = softmax_loss(x, y)\n",
    "\n",
    "# Test softmax_loss function. Loss should be close to 2.3 and dx error should be around e-8\n",
    "print('\\nTesting softmax_loss:')\n",
    "print('loss: ', loss)\n",
    "print('dx error: ', rel_error(dx_num, dx))"
   ]
  },
  {
   "cell_type": "markdown",
   "metadata": {},
   "source": [
    "# Two-layer network\n",
    "In the previous assignment you implemented a two-layer neural network in a single monolithic class. Now that you have implemented modular versions of the necessary layers, you will reimplement the two layer network using these modular implementations.\n",
    "\n",
    "Open the file `cs231n/classifiers/fc_net.py` and complete the implementation of the `TwoLayerNet` class. This class will serve as a model for the other networks you will implement in this assignment, so read through it to make sure you understand the API. You can run the cell below to test your implementation."
   ]
  },
  {
   "cell_type": "code",
   "execution_count": 22,
   "metadata": {
    "collapsed": false
   },
   "outputs": [
    {
     "name": "stdout",
     "output_type": "stream",
     "text": [
      "Testing initialization ... \n",
      "Testing test-time forward pass ... \n",
      "Testing training loss (no regularization)\n",
      "Running numeric gradient check with reg =  0.0\n",
      "W1 relative error: 1.83e-08\n",
      "W2 relative error: 3.12e-10\n",
      "b1 relative error: 9.83e-09\n",
      "b2 relative error: 4.33e-10\n",
      "Running numeric gradient check with reg =  0.7\n",
      "W1 relative error: 2.53e-07\n",
      "W2 relative error: 7.98e-08\n",
      "b1 relative error: 1.56e-08\n",
      "b2 relative error: 7.76e-10\n"
     ]
    }
   ],
   "source": [
    "np.random.seed(231)\n",
    "N, D, H, C = 3, 5, 50, 7\n",
    "X = np.random.randn(N, D)\n",
    "y = np.random.randint(C, size=N)\n",
    "\n",
    "std = 1e-3\n",
    "model = TwoLayerNet(input_dim=D, hidden_dim=H, num_classes=C, weight_scale=std)\n",
    "\n",
    "print('Testing initialization ... ')\n",
    "W1_std = abs(model.params['W1'].std() - std)\n",
    "b1 = model.params['b1']\n",
    "W2_std = abs(model.params['W2'].std() - std)\n",
    "b2 = model.params['b2']\n",
    "assert W1_std < std / 10, 'First layer weights do not seem right'\n",
    "assert np.all(b1 == 0), 'First layer biases do not seem right'\n",
    "assert W2_std < std / 10, 'Second layer weights do not seem right'\n",
    "assert np.all(b2 == 0), 'Second layer biases do not seem right'\n",
    "\n",
    "print('Testing test-time forward pass ... ')\n",
    "model.params['W1'] = np.linspace(-0.7, 0.3, num=D*H).reshape(D, H)\n",
    "model.params['b1'] = np.linspace(-0.1, 0.9, num=H)\n",
    "model.params['W2'] = np.linspace(-0.3, 0.4, num=H*C).reshape(H, C)\n",
    "model.params['b2'] = np.linspace(-0.9, 0.1, num=C)\n",
    "X = np.linspace(-5.5, 4.5, num=N*D).reshape(D, N).T\n",
    "scores = model.loss(X)\n",
    "correct_scores = np.asarray(\n",
    "  [[11.53165108,  12.2917344,   13.05181771,  13.81190102,  14.57198434, 15.33206765,  16.09215096],\n",
    "   [12.05769098,  12.74614105,  13.43459113,  14.1230412,   14.81149128, 15.49994135,  16.18839143],\n",
    "   [12.58373087,  13.20054771,  13.81736455,  14.43418138,  15.05099822, 15.66781506,  16.2846319 ]])\n",
    "scores_diff = np.abs(scores - correct_scores).sum()\n",
    "assert scores_diff < 1e-6, 'Problem with test-time forward pass'\n",
    "\n",
    "print('Testing training loss (no regularization)')\n",
    "y = np.asarray([0, 5, 1])\n",
    "loss, grads = model.loss(X, y)\n",
    "correct_loss = 3.4702243556\n",
    "assert abs(loss - correct_loss) < 1e-10, 'Problem with training-time loss'\n",
    "\n",
    "model.reg = 1.0\n",
    "loss, grads = model.loss(X, y)\n",
    "correct_loss = 26.5948426952\n",
    "assert abs(loss - correct_loss) < 1e-10, 'Problem with regularization loss'\n",
    "\n",
    "# Errors should be around e-7 or less\n",
    "for reg in [0.0, 0.7]:\n",
    "  print('Running numeric gradient check with reg = ', reg)\n",
    "  model.reg = reg\n",
    "  loss, grads = model.loss(X, y)\n",
    "\n",
    "  for name in sorted(grads):\n",
    "    f = lambda _: model.loss(X, y)[0]\n",
    "    grad_num = eval_numerical_gradient(f, model.params[name], verbose=False)\n",
    "    print('%s relative error: %.2e' % (name, rel_error(grad_num, grads[name])))"
   ]
  },
  {
   "cell_type": "markdown",
   "metadata": {},
   "source": [
    "# Solver\n",
    "In the previous assignment, the logic for training models was coupled to the models themselves. Following a more modular design, for this assignment we have split the logic for training models into a separate class.\n",
    "\n",
    "Open the file `cs231n/solver.py` and read through it to familiarize yourself with the API. After doing so, use a `Solver` instance to train a `TwoLayerNet` that achieves at least `50%` accuracy on the validation set."
   ]
  },
  {
   "cell_type": "code",
   "execution_count": 23,
   "metadata": {
    "collapsed": false
   },
   "outputs": [
    {
     "name": "stdout",
     "output_type": "stream",
     "text": [
      "(Iteration 1 / 4900) loss: 2.304060\n",
      "(Epoch 0 / 10) train acc: 0.116000; val_acc: 0.094000\n",
      "(Iteration 101 / 4900) loss: 1.829613\n",
      "(Iteration 201 / 4900) loss: 1.857390\n",
      "(Iteration 301 / 4900) loss: 1.744448\n",
      "(Iteration 401 / 4900) loss: 1.420187\n",
      "(Epoch 1 / 10) train acc: 0.407000; val_acc: 0.422000\n",
      "(Iteration 501 / 4900) loss: 1.565913\n",
      "(Iteration 601 / 4900) loss: 1.700510\n",
      "(Iteration 701 / 4900) loss: 1.732214\n",
      "(Iteration 801 / 4900) loss: 1.688361\n",
      "(Iteration 901 / 4900) loss: 1.439530\n",
      "(Epoch 2 / 10) train acc: 0.497000; val_acc: 0.468000\n",
      "(Iteration 1001 / 4900) loss: 1.385772\n",
      "(Iteration 1101 / 4900) loss: 1.278401\n",
      "(Iteration 1201 / 4900) loss: 1.641581\n",
      "(Iteration 1301 / 4900) loss: 1.438848\n",
      "(Iteration 1401 / 4900) loss: 1.172536\n",
      "(Epoch 3 / 10) train acc: 0.490000; val_acc: 0.466000\n",
      "(Iteration 1501 / 4900) loss: 1.346287\n",
      "(Iteration 1601 / 4900) loss: 1.268492\n",
      "(Iteration 1701 / 4900) loss: 1.318215\n",
      "(Iteration 1801 / 4900) loss: 1.395750\n",
      "(Iteration 1901 / 4900) loss: 1.338234\n",
      "(Epoch 4 / 10) train acc: 0.532000; val_acc: 0.497000\n",
      "(Iteration 2001 / 4900) loss: 1.343166\n",
      "(Iteration 2101 / 4900) loss: 1.393173\n",
      "(Iteration 2201 / 4900) loss: 1.276454\n",
      "(Iteration 2301 / 4900) loss: 1.301250\n",
      "(Iteration 2401 / 4900) loss: 1.361551\n",
      "(Epoch 5 / 10) train acc: 0.530000; val_acc: 0.480000\n",
      "(Iteration 2501 / 4900) loss: 1.396393\n",
      "(Iteration 2601 / 4900) loss: 1.279341\n",
      "(Iteration 2701 / 4900) loss: 1.120207\n",
      "(Iteration 2801 / 4900) loss: 1.262510\n",
      "(Iteration 2901 / 4900) loss: 1.267494\n",
      "(Epoch 6 / 10) train acc: 0.549000; val_acc: 0.507000\n",
      "(Iteration 3001 / 4900) loss: 1.288476\n",
      "(Iteration 3101 / 4900) loss: 1.347606\n",
      "(Iteration 3201 / 4900) loss: 1.320000\n",
      "(Iteration 3301 / 4900) loss: 1.386041\n",
      "(Iteration 3401 / 4900) loss: 1.415474\n",
      "(Epoch 7 / 10) train acc: 0.556000; val_acc: 0.502000\n",
      "(Iteration 3501 / 4900) loss: 1.305737\n",
      "(Iteration 3601 / 4900) loss: 1.159025\n",
      "(Iteration 3701 / 4900) loss: 1.171946\n",
      "(Iteration 3801 / 4900) loss: 1.079990\n",
      "(Iteration 3901 / 4900) loss: 1.144479\n",
      "(Epoch 8 / 10) train acc: 0.580000; val_acc: 0.498000\n",
      "(Iteration 4001 / 4900) loss: 1.197974\n",
      "(Iteration 4101 / 4900) loss: 1.341722\n",
      "(Iteration 4201 / 4900) loss: 1.229953\n",
      "(Iteration 4301 / 4900) loss: 1.010741\n",
      "(Iteration 4401 / 4900) loss: 1.309862\n",
      "(Epoch 9 / 10) train acc: 0.600000; val_acc: 0.519000\n",
      "(Iteration 4501 / 4900) loss: 0.934626\n",
      "(Iteration 4601 / 4900) loss: 1.432326\n",
      "(Iteration 4701 / 4900) loss: 1.003464\n",
      "(Iteration 4801 / 4900) loss: 1.014879\n",
      "(Epoch 10 / 10) train acc: 0.611000; val_acc: 0.526000\n"
     ]
    }
   ],
   "source": [
    "N = data['X_train'].shape[0]\n",
    "input_shape = (3, 32, 32)\n",
    "hidden_size = 100\n",
    "num_classes = 10\n",
    "weight_scale = 1e-3\n",
    "reg = 1e-6\n",
    "batch_size = 100\n",
    "model = TwoLayerNet(input_dim=np.prod(input_shape), hidden_dim = hidden_size, num_classes=num_classes, \n",
    "                   weight_scale = weight_scale, reg=reg)\n",
    "solver = Solver(model, data, update_rule='sgd', optim_config={'learning_rate':1e-3,},\n",
    "                lr_decay=0.95, batch_size=batch_size, print_every=100)\n",
    "\n",
    "##############################################################################\n",
    "# TODO: Use a Solver instance to train a TwoLayerNet that achieves at least  #\n",
    "# 50% accuracy on the validation set.                                        #\n",
    "##############################################################################\n",
    "solver.train()\n",
    "##############################################################################\n",
    "#                             END OF YOUR CODE                               #\n",
    "##############################################################################"
   ]
  },
  {
   "cell_type": "code",
   "execution_count": 31,
   "metadata": {
    "collapsed": false
   },
   "outputs": [
    {
     "name": "stdout",
     "output_type": "stream",
     "text": [
      "[2.3040600422126198, 2.3025633737033746, 2.2992191065248306, 2.2951768115250069, 2.2869562443972469, 2.2887002264957128, 2.2749235504913048, 2.2719402101021835, 2.2706149254965986, 2.2561478179870091, 2.2529246198142863, 2.2117267589972958, 2.1978027608688802, 2.2263912575321982, 2.2007567102296046, 2.1652460420081097, 2.1627363764284406, 2.1745009862194351, 2.1748144135237935, 2.2023178836234183, 2.1286075445520947, 2.0780969051283349, 2.1229608556641359, 2.0838054616860773, 2.2027825730417798, 2.1404932896607076, 2.1058381091991922, 2.176053391782633, 2.1237857121286803, 2.0081176076553118, 2.0334758806190756, 2.046955901269131, 2.0075048789435916, 2.094910476223466, 2.1354381415414276, 1.9993333314506474, 2.1246946310396448, 2.040066929418229, 2.0214731348197033, 2.0219666247526731, 1.9909097007943855, 1.9360332707703947, 1.8663206923321554, 2.1365627246412653, 1.9649568513898337, 1.7814108591199271, 1.9483510450361206, 1.8191613771356923, 2.079695281701825, 1.9213943634805373, 2.0438049270464576, 1.9488277233763414, 1.9078029110519275, 1.9545281208314789, 1.8034792739425434, 1.8578924678909201, 1.9697234739942495, 2.0306518743763653, 1.9221670588894066, 1.8702290588511754, 1.9592650714419948, 1.8929163188156035, 1.8688248232108717, 1.9942687807550181, 1.9150702564112096, 1.899462321157491, 1.9151630465295262, 1.8049338353563456, 1.9742328329266337, 1.7812049641278855, 1.9212052328545741, 1.8315464406326845, 1.8845679215206383, 1.7726560357292502, 1.7122635410633373, 1.8947957260084058, 2.010753912173088, 1.8813842226630026, 1.7404268246106407, 1.885060863181488, 1.8924950855434042, 1.8339997588824506, 1.8395213226347047, 1.8508762334403772, 1.8849769624935977, 1.6626143239053148, 1.9166956076363093, 1.8557307627794191, 1.7829739181739972, 1.9156656507058714, 1.7688562216210009, 1.779542646790774, 1.7428309305587375, 1.7715405846135637, 1.7822814045253672, 1.7773606258853012, 1.7868122424261086, 1.6783016138151912, 1.8352151650300788, 2.080039945899653, 1.8296130630763707, 1.8268553716519862, 1.771165611595013, 1.9238885619793575, 1.7962670403799041, 1.6142664802849245, 1.8941451887306531, 1.7214899049291272, 1.8667697544499231, 1.9231476336284643, 1.6830768293095708, 1.8472868288110211, 1.7423866411141897, 1.6587051382134284, 1.8316037851170206, 1.7975786718866111, 1.8014648435086471, 1.734055678296528, 1.8360808065467575, 1.7539359553060569, 1.7520421513493609, 1.8530065569611658, 2.0086682062194705, 1.716006391658619, 1.8205503306296973, 2.0085085651645431, 1.829795912583106, 1.7948351861776992, 1.9376168547866326, 1.597771036868771, 1.7030819249761322, 1.7553894164502215, 1.7065532944641399, 1.7355917656697111, 1.5669209136916853, 1.6112319609055352, 1.7991016013841334, 1.6873391152964854, 1.7858124803371713, 1.7989479075133763, 1.8156074539533218, 1.6549739366359082, 1.6941928624940172, 1.780471550683222, 1.5654429317987062, 1.7677593988047973, 1.73862391430295, 1.552061755107889, 1.6389894279217292, 1.7251783747846612, 1.6699033955206297, 1.7532535916478373, 1.8250467415319827, 1.7075977485492011, 1.6953745368240718, 1.7271739852218357, 1.7672782527626214, 1.8305663153948946, 1.7735922333486522, 1.5743894043121482, 1.7381070808555314, 1.6695088503677549, 1.8215366892944731, 1.8265480522604722, 1.6929108894704639, 1.843580734276719, 1.6317191932841353, 1.60385426347045, 1.7337701735951345, 1.7316563591892506, 1.6049717180590599, 1.7231581671963587, 1.6545154850617427, 1.7569913881023551, 1.5728553251827007, 1.7126175024074095, 1.691007978211869, 1.5543399406291574, 1.7310206884251689, 1.5709386752398273, 1.64888373681665, 1.6285271237401164, 1.692880290760657, 1.6110695616282329, 1.79683042791731, 1.6239140732889661, 1.6558246939808023, 1.7026624996599422, 1.8146986536977359, 1.6825383275353449, 1.6387781074923597, 1.6978305243128937, 1.7980343596476265, 1.6334433830028254, 1.7802560872845088, 1.7525004847580048, 1.683375256023663, 1.6626430450053844, 1.6800468960238251, 1.6505076889413879, 1.8573904434681605, 1.6728724873081515, 1.7722535146322773, 1.7683389453076295, 1.7124165753986236, 1.5885097929525467, 1.889483820489513, 1.7898375184000019, 1.7184093553756328, 1.7825139473618719, 1.6789354747792287, 1.5587284742815404, 1.6231507331295711, 1.6130527797481449, 1.7150052640133142, 1.5314089724254702, 1.6216317577280961, 1.724162623682618, 1.7529280871361446, 1.5903617405765293, 1.7561428407280821, 1.8257612154289913, 1.731509465138217, 1.6284817450974476, 1.8113727468191925, 1.7664511054068281, 1.6227886509553322, 1.7644418450626831, 1.6860296797658103, 1.6933541803818934, 1.6435965317871093, 1.5734469854417219, 1.707504407822428, 1.5782700864598256, 1.7472112694823523, 1.6475132811782855, 1.7834050360080804, 1.6384916393267466, 1.7006197435152184, 1.6288842766844764, 1.5412585490598663, 1.5560809352535403, 1.6913398953391932, 1.6729977793879445, 1.7661960545843058, 1.5159989598253363, 1.7854784190434183, 1.4602494231066998, 1.7323652072234126, 1.6196109369036054, 1.438778069949842, 1.6933286971871448, 1.620104958808795, 1.6434471355992732, 1.6246920890604684, 1.5618756159748652, 1.7108860882112982, 1.6833893403135418, 1.4858611245241791, 1.4272995292275812, 1.7181575661691102, 1.710180626050321, 1.5919163676070567, 1.8565501473499093, 1.647637403614743, 1.7429917129848438, 1.5961789100675075, 1.5025984500221319, 1.7593351158106734, 1.6794506053806741, 1.6673855474762111, 1.5730725007909983, 1.565886290365367, 1.5551708157191666, 1.4910013870292456, 1.5723444845818397, 1.5726007084656017, 1.5866832261224264, 1.7095263798816065, 1.7688545104839273, 1.6731174068100634, 1.5358058850640224, 1.5962172083148747, 1.6110564249433974, 1.7008759421591673, 1.6555434668635878, 1.7251786198387871, 1.6248254219778262, 1.6215771196956299, 1.6499797724806549, 1.6481071665444011, 1.6358140308027145, 1.7607113485519206, 1.5294761788076203, 1.6523503867594214, 1.5776472758162865, 1.7073795775346352, 1.6454622491746722, 1.5616435733027174, 1.5364535607678098, 1.7444478766438123, 1.5618260082109696, 1.8446276275921369, 1.795997511493473, 1.5263587475664742, 1.7385334432197037, 1.7531542994273088, 1.4961073913348129, 1.5269648707365011, 1.6854378110946875, 1.5645418654440684, 1.6440828069299542, 1.7710035090446794, 1.5424698591059489, 1.7200674345158777, 1.6353961589938653, 1.6099193728171342, 1.6162053012042317, 1.4583192887897687, 1.7251527226743062, 1.4681760415303093, 1.4976806447909321, 1.4745938156548524, 1.7444898813522749, 1.573265893942386, 1.7556709180323642, 1.6720815529832915, 1.8202814060985262, 1.5184176072848723, 1.7013822430919641, 1.4569665905106435, 1.5077160839299431, 1.8085556884422833, 1.6715714998300986, 1.6314617496141077, 1.7321793671023871, 1.7609402108560739, 1.7156941535435619, 1.6155657686587817, 1.5681881579324537, 1.7389164436285867, 1.6047711683149988, 1.5886738540766538, 1.627848963631007, 1.6632524328334266, 1.6529477233439414, 1.6686564325734772, 1.6579610413504682, 1.6576848188157616, 1.5233391076853615, 1.6927970016957952, 1.6215494635881804, 1.4053458916349009, 1.760354171733455, 1.7598044936912407, 1.6750974720139011, 1.5506845192583716, 1.4548445982472824, 1.6239951958168246, 1.5653947738375649, 1.8462694233991377, 1.6511966402009377, 1.7586638352865229, 1.628784144360105, 1.5766697740494477, 1.4788347972262239, 1.5605829077212934, 1.4630599685829828, 1.4677970996151892, 1.5007764648363504, 1.7216354845881165, 1.6560557870111183, 1.5963465729650756, 1.5036817710845991, 1.6204788314080787, 1.5831041023602219, 1.5749040379869568, 1.6402023505588497, 1.5785740056171653, 1.6813172740701945, 1.6058642495538797, 1.6807736428652733, 1.5295938270443423, 1.631942245275589, 1.6421481272750964, 1.5394385368659367, 1.5783170819265395, 1.6465172639482188, 1.4989730006046753, 1.4616800963609224, 1.5696069663566927, 1.6205480935701437, 1.6735559996435585, 1.7728212013216071, 1.4676477173963685, 1.6353826975150625, 1.6169408751325267, 1.55838326739723, 1.478214157822805, 1.6875731179912552, 1.4201873663995119, 1.5372027699563602, 1.5390999429850218, 1.6710092026249459, 1.6206773947917903, 1.522848300405887, 1.6023539215324285, 1.7133610025785713, 1.5978106645215315, 1.5183395505332533, 1.6788495568555286, 1.4325992164598573, 1.5445084146438761, 1.48382382388907, 1.5524608330988425, 1.7233992389021098, 1.3590525473824047, 1.5812744764080764, 1.7142540357515035, 1.7262676432808883, 1.470442183267876, 1.4590919579021013, 1.5211981627511801, 1.5569572006519525, 1.5995552520831904, 1.403208299622952, 1.6451215958638992, 1.7587882055724493, 1.6304917879662473, 1.620690617928215, 1.5388955268252718, 1.8141154006776969, 1.5311610195032723, 1.6621565447146991, 1.6549156626179504, 1.3837866353507113, 1.5002212072681624, 1.7664279832264373, 1.380140723827548, 1.533387240078564, 1.5648206825248938, 1.6644344609025643, 1.4682284016618286, 1.6819101174712436, 1.6057510813891394, 1.6092342747853898, 1.6129929590161369, 1.4429769439602733, 1.6695949397470562, 1.3726056962991666, 1.629710596705739, 1.6362413008957923, 1.5884670428658161, 1.4265060071432019, 1.5787306741308818, 1.7480788185511578, 1.4125215582979116, 1.5707735546811796, 1.5312244661291452, 1.4679725004522099, 1.4780258664061161, 1.4844396614109496, 1.5126132662276102, 1.6894315036947312, 1.8389599163253665, 1.695343699440601, 1.495284021498549, 1.3582580578519128, 1.5648337357497191, 1.5476747306980843, 1.4747938428797629, 1.6244058286531708, 1.5804771639944906, 1.528871256653987, 1.4066662945042998, 1.4680911332048572, 1.4124317070791552, 1.7301599490238768, 1.6066175046499254, 1.5970005271248846, 1.3935396047302584, 1.4333340337165132, 1.3712899252681536, 1.6363437257131832, 1.525317355813121, 1.3830244155963647, 1.3333356261117382, 1.5992252372582889, 1.366627030042872, 1.4067228053032454, 1.6142350726313912, 1.599563174134413, 1.5111976075670124, 1.5005157321088562, 1.6204084109453594, 1.6730777541519397, 1.5056266673406438, 1.5982955850149172, 1.7239253472527076, 1.5998452572820685, 1.5659131302718816, 1.6726825287978178, 1.7676213813145525, 1.5176968682665688, 1.639329535155188, 1.5644950727688545, 1.4884423753289666, 1.6339402689692806, 1.5826552061213663, 1.506183003253531, 1.3650650249593588, 1.5205960353186398, 1.4770376036038497, 1.4222766847450312, 1.54543985180874, 1.5433485372213216, 1.5440713364101828, 1.6288960813443543, 1.6056464429918436, 1.4095667025603282, 1.6549023571592645, 1.673823925929258, 1.5903420008770821, 1.509928271394898, 1.4650101863585756, 1.6029046723196143, 1.2603084397822388, 1.6628907804649691, 1.6315356576833169, 1.4190287305544671, 1.597875429658991, 1.3152133954106149, 1.6352792550412347, 1.4629939079721739, 1.6851363008266809, 1.5918861957506412, 1.7290197278890551, 1.6621809022807483, 1.6186720034087636, 1.4091028680176025, 1.4319948393755679, 1.3475761215391862, 1.6356645907736784, 1.5247540793282701, 1.5207783508594039, 1.4380149128051036, 1.4054173458195383, 1.477280661660298, 1.5746817598164313, 1.7306363157625049, 1.54378199387852, 1.5629641304834745, 1.541416535714355, 1.5834719217728528, 1.6182801589833302, 1.4178036400239356, 1.7201560065757626, 1.4717477236471803, 1.4878616357563168, 1.4068689578735267, 1.3752912098077663, 1.4062240640568058, 1.6108133508763154, 1.4414695574361085, 1.4151081576728435, 1.5802216730673442, 1.5265662369238511, 1.6121197119773056, 1.6475714687361227, 1.7727899558742308, 1.5293343666768948, 1.676710534982828, 1.5502315483106019, 1.5525066847046955, 1.6138933742072994, 1.5357350986826468, 1.6455859349025528, 1.3972923173856611, 1.3918003712564875, 1.3787866321077034, 1.4205619725164633, 1.4798798914860869, 1.84992932503999, 1.519177434951686, 1.5191207458317881, 1.6518524876572316, 1.5184034761761258, 1.3143683253754739, 1.3762283348244075, 1.6290553561867274, 1.6231550197388023, 1.3735375181279672, 1.6141478577276149, 1.5378728354452385, 1.5403739669878735, 1.5178830705969839, 1.6649404672002497, 1.530536397445087, 1.5532335232309935, 1.607801377422601, 1.7005100842370087, 1.3496705497437378, 1.6295351154836173, 1.4649937760957275, 1.437291678854244, 1.4608493803640756, 1.6269775396474011, 1.5762824547924346, 1.4547996341846279, 1.4614754673773636, 1.4670631284366671, 1.6379106795754867, 1.4299658449555641, 1.6941800058730303, 1.6028621862053234, 1.4670718496925796, 1.3605659903898619, 1.3871324833222889, 1.4217137964568114, 1.5134881333933456, 1.4685806731526296, 1.5371272753915239, 1.6472036447870826, 1.6084414492692556, 1.4859793342845717, 1.8918838686960562, 1.5653134807619418, 1.4402522911631608, 1.4786564225226344, 1.4879687617512281, 1.3884075554646977, 1.7258659265388532, 1.4615630834107931, 1.6024468281410145, 1.5391597236580523, 1.2971956227037709, 1.6531893678535732, 1.4143484800629043, 1.3617377877454475, 1.5109289003854045, 1.483003839664865, 1.5424262499127392, 1.3624149987634024, 1.6827706091628263, 1.4828002270012914, 1.4653941137375597, 1.4305968458054308, 1.4469213341897154, 1.6888473252138496, 1.4933085614311545, 1.4987823314494808, 1.4885203102088311, 1.5789947781759706, 1.4516346419080157, 1.5133120951818906, 1.7071341338819965, 1.5887238296828528, 1.5098894403236067, 1.5160195614395209, 1.6686831448155077, 1.5021578233360695, 1.4323901653773548, 1.5432185011476132, 1.6857517521282925, 1.5535773475701624, 1.5560685285593905, 1.4997144386731303, 1.563897729679687, 1.6446163491548449, 1.4779344465025719, 1.2520469404553136, 1.581771589788139, 1.4731903371862514, 1.4399071217188808, 1.4067392205283249, 1.5800652106648085, 1.7514409369136068, 1.5028347441060801, 1.475702195441033, 1.6570733147069254, 1.6343724352424327, 1.3656478501040326, 1.5456800845409719, 1.4625819855175275, 1.3678011051483299, 1.4955247787264931, 1.6101416316879686, 1.5298213764944093, 1.5532266723853125, 1.5460926568526154, 1.5991608048926136, 1.5400426938113927, 1.5703661884744313, 1.5055536305650739, 1.6863211036049293, 1.4753800088844387, 1.4396780221156849, 1.5856559668341255, 1.5322156877093489, 1.5668702447078813, 1.7322136238429344, 1.4493968508162705, 1.4022357993909011, 1.450000749677391, 1.350551835399231, 1.3246245104074714, 1.3850187801594076, 1.6685016294853956, 1.6467895894257858, 1.3864166815898686, 1.5911232333283387, 1.3910233632509583, 1.5504429289264754, 1.373882825756459, 1.5697353998226005, 1.3315292255433113, 1.4676112173508977, 1.434724346078065, 1.5925579676147785, 1.5779897716760209, 1.5050844127476974, 1.7025463653294994, 1.5641117246391234, 1.3502728254253995, 1.276085435984661, 1.4050799921022785, 1.5840003392260888, 1.368357645892909, 1.4780855391441279, 1.5264614308975606, 1.7326941401575635, 1.6851191396369063, 1.3205068287165613, 1.6858914986224729, 1.5274504648335685, 1.5036567344982668, 1.5476922089485885, 1.4994064043029951, 1.5958423235779362, 1.2228710915322494, 1.356827652969169, 1.4835888890020745, 1.6033836374066077, 1.5499978733437063, 1.4355986619228098, 1.5735337215405238, 1.3671240591246403, 1.2416810078959355, 1.4388383096725268, 1.4719577500992345, 1.6215657533484591, 1.4900272948711764, 1.7062517912997228, 1.513800236811393, 1.4921181173827827, 1.5599737569947414, 1.3728852912535454, 1.6256678751286544, 1.2994355264588264, 1.4672122160997523, 1.4894038633481168, 1.5433784123608991, 1.5799054883684649, 1.5220524365571177, 1.4696682460039203, 1.5942160819604452, 1.3857026064471405, 1.3985729019962909, 1.5495596184002056, 1.5523162463761433, 1.5213418418569074, 1.5248514431350668, 1.250161183014777, 1.5886860682162522, 1.3426583897844058, 1.6200408963867972, 1.5705233766454998, 1.3787055613088015, 1.4867260493549981, 1.5182721904278444, 1.5335720296609148, 1.5077077927403242, 1.4477019962832447, 1.577309370229929, 1.7523557948661526, 1.635240397641905, 1.3548665360907337, 1.3813493345275181, 1.5867825338403978, 1.4489912981320323, 1.5789005195996346, 1.4281632273348368, 1.616071231990259, 1.4454241562387218, 1.5783560804705203, 1.4218354838432443, 1.5054974662879572, 1.4992378342827439, 1.4176562294947694, 1.4793823209277148, 1.6883612893156619, 1.58073680008744, 1.4806358430105142, 1.4338019178903925, 1.4261729504221858, 1.5966676122278138, 1.4142229685793419, 1.3380605804575418, 1.4220690690259232, 1.4802966429774476, 1.5805055329684119, 1.291481478874799, 1.4106668220570515, 1.6365859325668242, 1.6515331688802291, 1.400185269038924, 1.2871228448133052, 1.5647016964083913, 1.6416327103658808, 1.2210220467367237, 1.463152590683829, 1.4382039279882852, 1.5205904391613696, 1.6999129106737643, 1.5495769339257832, 1.3248883794651558, 1.417623281274782, 1.4282233375530553, 1.4401720613405087, 1.534544145836261, 1.6218375307912209, 1.5343426239982765, 1.6100620240541594, 1.5454452932572111, 1.4116851283344312, 1.4416604702303515, 1.4854208186378184, 1.5448185529741203, 1.5090481141336833, 1.4633483849643485, 1.4069291509593125, 1.5157271809992405, 1.6002569700165967, 1.352151550824843, 1.3838446317664113, 1.6902271346048803, 1.4794212752043325, 1.4602056561379315, 1.3132321753271394, 1.5409783481844741, 1.7495938985529136, 1.3362275963109775, 1.5757924802464842, 1.4736186382796559, 1.3468698856920753, 1.4864897477390353, 1.429220296118012, 1.4447031311939869, 1.5454455718187239, 1.4995707149893602, 1.2843564153163001, 1.3835637892382739, 1.658454024691246, 1.4642427018305522, 1.6035032895952384, 1.6176613653954874, 1.4568074116698391, 1.7364603931541798, 1.4352056812866603, 1.3631164066654882, 1.5697169642069442, 1.3439277953399371, 1.5075837923944906, 1.5719327589805521, 1.2960062919676987, 1.5554500229235477, 1.3974892312122638, 1.6006644303207835, 1.6092695052291546, 1.4784873614284091, 1.363287454855362, 1.3375469484804072, 1.4202586607094598, 1.4096506288364388, 1.5853797053011451, 1.4909562045576221, 1.2657190784846117, 1.5605158089280269, 1.3461003073351292, 1.277837527810449, 1.4663845888257363, 1.4202570485830601, 1.5254240412402333, 1.4140722893183391, 1.4209152466243407, 1.377886247087817, 1.2896055317944393, 1.3928230438685514, 1.5519777755666477, 1.4509689267438624, 1.4395295978222125, 1.4788026540410142, 1.2353269663942208, 1.499201417826814, 1.3143001986637042, 1.5910236384308829, 1.5159980717474375, 1.4758887927213815, 1.3440837160669694, 1.2712599296965459, 1.2737152978467963, 1.4948852142241476, 1.3361848518453698, 1.5612532300755071, 1.3723042859591115, 1.3513196163384094, 1.4428101921217, 1.6769727630273612, 1.5520396676799086, 1.4965746450702306, 1.5291215423944278, 1.2969209654721303, 1.591036820912036, 1.486704377211439, 1.4985208023944108, 1.6404106766986102, 1.2922576568682291, 1.7682797685048326, 1.6928796101203538, 1.6312626193034028, 1.5275910037609772, 1.395216624136856, 1.445797615963474, 1.5019079590231588, 1.548061761787793, 1.5058421797089108, 1.5538149811234252, 1.4988361874435727, 1.6428906905818574, 1.401579160039317, 1.5140759769946395, 1.3691121825995614, 1.4835171326061489, 1.3875008064616927, 1.5322512391498413, 1.5649102937794432, 1.6202847423383266, 1.6197435041008816, 1.4583126928704826, 1.5441237863339767, 1.3782569810282339, 1.6000481925697594, 1.2055903167865636, 1.6360018505557661, 1.4033558970480695, 1.3419902797351055, 1.2623471976840215, 1.5080686659792586, 1.4380641991767407, 1.5503047465660591, 1.4220616235688679, 1.3487847978383187, 1.3635779918801052, 1.5493128353119205, 1.313689028267891, 1.3892829037552441, 1.6371885288243457, 1.5753292048762801, 1.4501759286415932, 1.4308006349137732, 1.4863478690369356, 1.6747114428404684, 1.5184244060240069, 1.4189341687010049, 1.3310519957264346, 1.4890142807295834, 1.5133701024307247, 1.3175808379598664, 1.4351640025690193, 1.4431230425521073, 1.5644824427126622, 1.3973161361637396, 1.4646439740182995, 1.5714822383548102, 1.34189107461961, 1.5210769468532714, 1.3829928203321926, 1.481431321385636, 1.4282177103233595, 1.3889594488119643, 1.4508519351206464, 1.4422877373821112, 1.5519251390564051, 1.4459932148517041, 1.5697025796843342, 1.3900721103457983, 1.4864706620365504, 1.4238511062532131, 1.5065381038096162, 1.3317681281269145, 1.3857721042402391, 1.4014125462198044, 1.3113830498255135, 1.4472167431531915, 1.5091551236455616, 1.4891624035051145, 1.5693522814483567, 1.5332828777000782, 1.3525890117839219, 1.422006384835057, 1.421798581212746, 1.3604268984706358, 1.4772800993654289, 1.4246145811643574, 1.3002109733292648, 1.5313792481346853, 1.3797252362087544, 1.2907468542762912, 1.4950252144751439, 1.4524733599060304, 1.5430158294666463, 1.559699555672152, 1.3783680974119334, 1.4338074410330426, 1.4707924355340194, 1.430456941254898, 1.3242644401163506, 1.2580419515260186, 1.5242389214341936, 1.3002894182221103, 1.4849119364849066, 1.4011466946141329, 1.537430401177543, 1.5452755280512478, 1.7126886285564444, 1.4138006276612434, 1.4143163919714319, 1.3641435278300849, 1.3090165836469141, 1.4000378271615141, 1.3706503345211178, 1.5372277459332746, 1.2409009073221797, 1.4020180099858595, 1.3450378778247123, 1.4080214571311203, 1.4969144461670076, 1.5092759898668602, 1.5799847967855403, 1.3446284885216415, 1.2841618420242153, 1.1432842520278148, 1.6008969619480948, 1.5629350713050136, 1.3484985398373044, 1.3780538850204047, 1.3870233974187183, 1.5735095425154619, 1.2964018927999157, 1.4344827307188976, 1.6516070349587555, 1.4707575293270851, 1.3554938661787976, 1.2945103359424255, 1.355814656795099, 1.14462596466014, 1.3810655608022351, 1.388699562281797, 1.5780480879327914, 1.3660617899690186, 1.5027574375132602, 1.4140535530857086, 1.4690332396662724, 1.4086655955139142, 1.2721264178289038, 1.3359202876997143, 1.3737979500655992, 1.2697027886406258, 1.2867158232895026, 1.5618683015588211, 1.3746978283207159, 1.5521401930241121, 1.3498746571345521, 1.5683051783860029, 1.5864987452017243, 1.4066047631901213, 1.3543290892187663, 1.708268388858728, 1.5415406099369675, 1.5842865590604309, 1.3735577930689771, 1.5177476920032362, 1.5900021727741265, 1.2770714551911275, 1.3722573470554722, 1.4490463578457884, 1.349639413375642, 1.4778378315651208, 1.5188425741201366, 1.528427039075537, 1.2784013875116731, 1.449748868187632, 1.3707938628383285, 1.3999770537379503, 1.588879764304, 1.3863663106910256, 1.3261022634927917, 1.451024571414347, 1.5537214680383618, 1.52248539280331, 1.4776471647552887, 1.5191799198336471, 1.4485919605937354, 1.194071433607361, 1.5931998462948989, 1.4119324373931963, 1.4738182203446333, 1.2888658943254054, 1.3364323124985633, 1.431594666672386, 1.6368124958956771, 1.4127973079715537, 1.3762283186029534, 1.2789637195816219, 1.5304372973080691, 1.2900620673292871, 1.3091526062310155, 1.4226283493301521, 1.4783375733555446, 1.6440002534868445, 1.5242960139614001, 1.4493436501862049, 1.2648723738158902, 1.3192132654716118, 1.4617672760971983, 1.4498741378228097, 1.5019459326453539, 1.682679024039669, 1.2087753025505348, 1.3278633241423266, 1.3653034471225249, 1.6151807959970632, 1.3589794707999221, 1.5296526896007343, 1.4067427348648085, 1.3793076764900831, 1.27961483370657, 1.4561060487548503, 1.3195135348470015, 1.335868988560756, 1.2750234260410374, 1.4343163966966244, 1.343953727909305, 1.5863278207898612, 1.5106432706397841, 1.2908536034626945, 1.4612498277351889, 1.353836697977731, 1.5433381290507879, 1.4981675129921475, 1.3330228662838512, 1.6904357653699114, 1.3619135784150995, 1.2330790347410874, 1.3477080971864173, 1.5167658134873014, 1.3813197719156469, 1.6458845614333981, 1.4168294666236385, 1.5066894873611556, 1.4377400894337302, 1.4581087023279342, 1.278181957026896, 1.4981806920050371, 1.3868294070623108, 1.439026554959729, 1.3280482189577114, 1.466567640905756, 1.3990593363848038, 1.4355488607645639, 1.4716359475085992, 1.349779558652485, 1.4481317530163369, 1.5171770247425753, 1.3632086553747371, 1.4062651801448518, 1.4912938033081107, 1.3649641608917318, 1.4021181588679794, 1.2485944383136345, 1.2843969428304129, 1.6233930111076413, 1.6576583464813741, 1.3249156450974866, 1.1834056405544433, 1.3365289294448151, 1.5714765866108324, 1.4170997156028202, 1.4523375236856406, 1.2509771114066517, 1.6415808513515562, 1.551411619808253, 1.3131119758377183, 1.5315025471384724, 1.3623596344974367, 1.3339145398661461, 1.3791003028100481, 1.5264528606181673, 1.405447645275502, 1.399921982068778, 1.5669616105370563, 1.5336210320968398, 1.3688838686693023, 1.408971006676877, 1.5125436111239363, 1.2726939532302992, 1.4670797635516992, 1.4510436626990471, 1.306818303478209, 1.3823347908374468, 1.5147595815088744, 1.3248131081518304, 1.3300135826839763, 1.3974141003042722, 1.3198409743632851, 1.3570182986895483, 1.3630467182139376, 1.4077249926497537, 1.4953318313134745, 1.4324424575907542, 1.4851356578643526, 1.3526350842698012, 1.4300935465708251, 1.6853948910275012, 1.5460483292205858, 1.4251284597684293, 1.3087300650990064, 1.2651475136158179, 1.460747279712042, 1.4164918434882303, 1.4541451311253184, 1.5150611346083824, 1.4608165688158008, 1.4058345223567656, 1.5088326370378085, 1.3722175124107807, 1.4666088260915413, 1.4370301345172216, 1.4617201740169898, 1.5855533756111135, 1.4688776163185742, 1.4029011354018206, 1.3394147951991697, 1.6693871694568729, 1.6967120461294016, 1.4992335623084747, 1.2862292524974774, 1.4865898916979272, 1.5448358285604016, 1.4704967711404973, 1.6805440464499637, 1.330336473808047, 1.6078561082519229, 1.1498055472756337, 1.2676531977734364, 1.2432089126737549, 1.2953925472994254, 1.3533893699552415, 1.4928211435325558, 1.3145312604087964, 1.3138815780193962, 1.3991013760453477, 1.3976911521214821, 1.2451472825885155, 1.4133224249960401, 1.2342767296624757, 1.6189156741043433, 1.3465993694385026, 1.3940024369959716, 1.5304415110269913, 1.4618500454166745, 1.479323025352135, 1.4999459100368342, 1.412301269709838, 1.4629671972368232, 1.3764157492117648, 1.5824058241255776, 1.5910447798238623, 1.2136637082153912, 1.3658076373468468, 1.416707188242585, 1.1264406786487962, 1.4677312664012789, 1.4517380677792242, 1.3032204168233736, 1.3863919170689425, 1.3565840051167712, 1.4078179052873787, 1.4516526854378522, 1.4188466155338062, 1.4388477468199088, 1.310969085728684, 1.7004448393067519, 1.4277865155012222, 1.3952902311094639, 1.418585982681607, 1.4213406724873578, 1.4055682848254178, 1.4857978212991116, 1.4904420058315282, 1.2816918018047982, 1.421225596222639, 1.3409793256166056, 1.2885708869791086, 1.3379825701301229, 1.5014274844458633, 1.2461214040135586, 1.4451568792539182, 1.3708276913080031, 1.3051703895281361, 1.4594824279064762, 1.3026291058420063, 1.3471557413304494, 1.4073077194855814, 1.506500487555388, 1.366804042493563, 1.2703551398987274, 1.4673768047149793, 1.4810052929943667, 1.433374339928265, 1.3598455433915286, 1.3198688956030196, 1.2423385370613933, 1.2696387044022535, 1.5162721327988802, 1.5254146006647988, 1.3448336129985987, 1.3342865867416154, 1.3667537612449436, 1.5099391757311793, 1.3639628688994381, 1.5423672336460537, 1.4621270977856886, 1.3125839512094719, 1.3603772318363712, 1.4838806656915331, 1.2553076394238489, 1.3095422563034917, 1.3243805888193256, 1.4768886106179899, 1.4528828757995542, 1.1950664100945845, 1.2346142669430569, 1.5507239764089391, 1.4615429297841722, 1.4283988900315536, 1.2488222971481509, 1.3221143700252083, 1.5940983524148358, 1.6150063327542064, 1.3548912681634999, 1.4798106625961358, 1.303154639713392, 1.4502828289260126, 1.3495760994965689, 1.3592365746328559, 1.5839518147939613, 1.2475058474241632, 1.4318021548570075, 1.4104104262965382, 1.4153194354363199, 1.3635200556087304, 1.5604976625947837, 1.4595499372937353, 1.4062994099020079, 1.3870207433940667, 1.5287148372103252, 1.536583228934965, 1.3438794606855469, 1.3699004070394918, 1.3239559559039593, 1.2835100520230684, 1.3917091967097224, 1.5047731221137584, 1.4067164964565926, 1.4104370639348172, 1.3744366780955255, 1.3797418623669233, 1.3563026929581115, 1.4732193094572714, 1.5379465476372294, 1.3641069359083615, 1.3824306657659664, 1.2888699375188792, 1.3740820670168641, 1.3043974469767663, 1.401478000858249, 1.3955005307457378, 1.2848807490239509, 1.4355555799399389, 1.1725362390761758, 1.2753923404111727, 1.3709223085755187, 1.4106616417271547, 1.5904270670333109, 1.445141236227846, 1.1315445147381222, 1.514088859039042, 1.2759049932667643, 1.2652756683265163, 1.5166769014009047, 1.4063733073928562, 1.3414170567788648, 1.297357316881431, 1.3325408188739727, 1.3151331318121013, 1.3497570168848703, 1.5215110166302745, 1.5322161228481925, 1.2745015750703164, 1.3616035402496822, 1.5754289204541689, 1.4930912809918147, 1.2724192578697959, 1.5321127386928495, 1.3878134923519463, 1.336793821553057, 1.4031180516038884, 1.3993789707422086, 1.3337731288047296, 1.4826384871968594, 1.4927593777337849, 1.5793928536367894, 1.1125529325228933, 1.2846833763142418, 1.1917290274138252, 1.3987304149765809, 1.5430444614854477, 1.5574387545616679, 1.4653634970688871, 1.3990706546464369, 1.5057521716874793, 1.1879124706852353, 1.5904632699762256, 1.4554880675897883, 1.492782411873266, 1.2555102276804606, 1.3245351194866875, 1.4972295687507018, 1.5190178532271148, 1.6591701802666068, 1.2757498885951342, 1.3951185351027164, 1.4775579963404104, 1.3257907494744059, 1.3201606789424518, 1.3648337421421082, 1.5454433480280954, 1.2322663035717367, 1.3503590315474066, 1.130555898602092, 1.3786997885992429, 1.5183199637427685, 1.5312178442882136, 1.2791167587230694, 1.5056885961893995, 1.4739678370134774, 1.5995888045514681, 1.4466765678439872, 1.3248555361463046, 1.3396407628885894, 1.5021942199320495, 1.3399413864215595, 1.3020208553468087, 1.542600705777929, 1.4236467501221568, 1.4528777966778488, 1.327488884878169, 1.3779770898002337, 1.3750506698005331, 1.3143408293118437, 1.4443920362758926, 1.4379196653067441, 1.2405644848190536, 1.4801079842060714, 1.3151264176305699, 1.3199176375267103, 1.3874441552454908, 1.2245413714050852, 1.5296834428194603, 1.3616833165448385, 1.5820619546121906, 1.2687645754120278, 1.3819196542877654, 1.1930463961814406, 1.4492837359173385, 1.3463846961176704, 1.4541344330763626, 1.2226631701406574, 1.3500438946392423, 1.3462867290030929, 1.3583415066962399, 1.3104737827544972, 1.4271365886083502, 1.5254231941567775, 1.2854726696680512, 1.5659537766944533, 1.2126297214772592, 1.2346049772901455, 1.4339384512596001, 1.3301797338943762, 1.3107827709269115, 1.3186078346602659, 1.2736037798062652, 1.439337310732498, 1.497218119727153, 1.3122821519633612, 1.5253791444481251, 1.4294546225126101, 1.483889559634203, 1.3412193756748652, 1.5754765226390499, 1.3869406365582808, 1.3043547066495143, 1.2534025454868531, 1.1195521884662163, 1.1782844858757175, 1.2681275661333105, 1.3551811477806381, 1.3336757147667717, 1.46768648897816, 1.2396265164798483, 1.5071685480878607, 1.5649719929535186, 1.2324476749214324, 1.4723708233818775, 1.407138162422648, 1.3467490810858354, 1.5332368317561385, 1.3498017898547592, 1.2763991982364129, 1.3446878637310147, 1.2944168321402771, 1.2165758725117202, 1.4086058905920882, 1.3183572786843185, 1.313997816551693, 1.5225554031120467, 1.2184509314587586, 1.5821469660024681, 1.3184336939705517, 1.4470893785118295, 1.3869185937123547, 1.3371652265777219, 1.3478568656464105, 1.1157554436764066, 1.4795690567707249, 1.3367731461932886, 1.0985411989106086, 1.3202063005725557, 1.0376733093118464, 1.3262929211615579, 1.3616992652504709, 1.4797358426740927, 1.4183495458081852, 1.466482920011728, 1.4441319180077226, 1.3950719839484993, 1.4059873520328796, 1.3097867680377606, 1.5523712923210122, 1.2558116723018615, 1.2360830540309602, 1.4722919149490756, 1.401667897308811, 1.3634061126590307, 1.4541312730883802, 1.2449468497728791, 1.2422192960457714, 1.2269545824521797, 1.3832672092015221, 1.2229487408147952, 1.4062122499894456, 1.1533493434955169, 1.2193742500345275, 1.3921987686730102, 1.5637050929992351, 1.5055549115949736, 1.2565381298971703, 1.3910940558850236, 1.4050464384420644, 1.2261582749222095, 1.3649390459681716, 1.3993707527048378, 1.3407970163257024, 1.3773659644328058, 1.2770919712723907, 1.511345197061162, 1.167704910226157, 1.2973272042255148, 1.2684922467053947, 1.3228210539859611, 1.4711080860530752, 1.4841632333003123, 1.4010511381438209, 1.3198309390154122, 1.3095184385583332, 1.3737063175586255, 1.3971846370237331, 1.225524944986945, 1.3475809650218118, 1.3573059974928612, 1.2503219846022318, 1.2901735508076881, 1.4003430486838695, 1.3296660692937083, 1.3635351263871096, 1.5805210071508844, 1.273243026956927, 1.3110428814686952, 1.3463604933938467, 1.1847805165998015, 1.1508511942510176, 1.3610001319785698, 1.2186061456739248, 1.354536592318468, 1.2754691295955365, 1.2883069320049385, 1.4447433464392929, 1.4516491627299148, 1.4459652794965518, 1.3267094335853229, 1.3841645455572869, 1.3547476544760337, 1.1862876287525397, 1.1037850942574148, 1.4759499719130389, 1.3956077696071432, 1.3511557770480487, 1.3955664371853329, 1.2150781118968554, 1.2667919684247149, 1.4999351015661095, 1.1914604284273869, 1.2737872952711704, 1.299338862273423, 1.2178671051628773, 1.4597826643445815, 1.325079144979407, 1.3216350527360283, 1.2806478207138854, 1.4534614261118179, 1.4949882154716068, 1.5970656463052295, 1.368626309673282, 1.3516961749485772, 1.301416224936595, 1.1843068991595809, 1.6529419565423809, 1.176199074599021, 1.2819326930114228, 1.591379475166385, 1.5321595618027168, 1.273183838973603, 1.2910465902280457, 1.5681680832728992, 1.4827028480728859, 1.4211413812377938, 1.2325285854254289, 1.3680731932833201, 1.3588789878213539, 1.4374465072468203, 1.379802992098706, 1.3520981856387342, 1.4830161447756753, 1.2286006826929152, 1.3767871148509474, 1.1243151941027971, 1.3892836002680133, 1.2947147685528013, 1.3259516021782856, 1.6861229760039382, 1.3870490278031677, 1.3676439248490628, 1.4060006958845581, 1.2102186190511104, 1.3161217319145486, 1.2986425564452386, 1.3583559962434049, 1.4010317543126622, 1.3664759160335374, 1.3523447078916979, 1.2649628780622055, 1.4514366669345162, 1.3689100035919051, 1.3123433768225543, 1.2155390670432571, 1.3245612662182229, 1.4262914161194424, 1.2547343432605822, 1.3182150972547906, 1.2858185340889468, 1.454089785004016, 1.3822118142268773, 1.3431033255004912, 1.3003529253493973, 1.4301997955226267, 1.5036175500970292, 1.3762931050921365, 1.576224015561601, 1.4073195877889841, 1.5402060005909908, 1.3943121553105207, 1.2593370824743984, 1.5195942344109246, 1.3401587412714211, 1.4684998211242144, 1.7817867181177154, 1.2437034724838172, 1.6244111995519568, 1.1661895755011975, 1.4061821676689474, 1.4656988662758039, 1.3484734514295897, 1.1949234868746419, 1.5458784039516862, 1.2886246707385938, 1.3460225021535581, 1.398843356098423, 1.3162400874416531, 1.2671922221508549, 1.3334216834769603, 1.3870651364061497, 1.5517073847303764, 1.2870787659685277, 1.4182829028882549, 1.353894143823595, 1.2688170560274212, 1.3373842682185924, 1.3994220043937347, 1.3210102014094236, 1.2512598978000342, 1.2459386227206777, 1.4065811756693258, 1.3984127848983015, 1.3498668352440826, 1.5809330624222011, 1.5528955719628585, 1.3001440874940167, 1.2320151842285405, 1.2848336966262488, 1.4818388609988866, 1.4101467171198394, 1.390836065135217, 1.3292723928848393, 1.2547212941977075, 1.3219362394955563, 1.2298187921970729, 1.2980896886328601, 1.6139088507166202, 1.6006468878688775, 1.3387606365560456, 1.2252629622991213, 1.2075854600956415, 1.5292580014548727, 1.5669750749774001, 1.3166603881873993, 1.3586366422715543, 1.5746579892267913, 1.4499518409468344, 1.658454447291049, 1.2152509406402192, 1.3696141908021326, 1.4478668836334967, 1.1756595233063238, 1.2911895039208146, 1.2933632338258838, 1.2375319785485543, 1.1390163429869837, 1.3080948365847225, 1.2586539320895491, 1.1621848072336152, 1.3346578514529941, 1.4955043789894253, 1.2238777535732779, 1.2101651182334734, 1.3439400609806962, 1.4933919957344712, 1.3231732137281584, 1.3177009610533557, 1.4124863383462214, 1.2451067410378867, 1.4835525255774775, 1.5559829217571477, 1.2242951754955176, 1.2394457826005243, 1.196962064480005, 1.4268946869177583, 1.3257100099687698, 1.116508994195875, 1.3957501323682884, 1.264245436817663, 1.1964246256599524, 1.1665408880903945, 1.2834684161492156, 1.6449008820820925, 1.152426964373775, 1.4236576288715304, 1.3587188401246142, 1.3311321834584118, 1.3625509539820195, 1.2390444960618707, 1.3393748741352893, 1.2819849895910582, 1.2979071492170289, 1.6363883865050186, 1.2266891387760179, 1.3458125194485426, 1.355697805776541, 1.2220906028421106, 1.2595373478052621, 1.4192039922378503, 1.2630478251145945, 1.4472115867410509, 1.4139983615099891, 1.2570265653982664, 1.1137279865313614, 1.2632673732530915, 1.3400788000894606, 1.5170189524559721, 1.5447730244698334, 1.4321072231606899, 1.3024240300983345, 1.2483802722555304, 1.2745641624261317, 1.4237585690340504, 1.1337531242596746, 1.2564672785489577, 1.5340988377980438, 1.2858058160817787, 1.3760996080319745, 1.3229265233905161, 1.371060862812667, 1.3530558924892371, 1.2689203310283028, 1.4394550130558015, 1.4636882589603857, 1.2340093164047963, 1.4256585552970933, 1.4973888136049638, 1.5020267095809097, 1.4176291344992182, 1.5238679519792788, 1.3719425414951203, 1.2878481934590511, 1.3754965773629868, 1.3505305617737531, 1.4809787496509301, 1.3414769188913636, 1.5068866611583172, 1.2246313507224782, 1.3083201806042937, 1.2566811425894175, 1.2453202427505692, 1.3723401994783033, 1.211700231514661, 1.4329031185711314, 1.2669163200817721, 1.1937331534162094, 1.3751745654143268, 1.3405787124886985, 1.2674634530092133, 1.308666730031943, 1.3294068099668139, 1.4929621028863929, 1.3360889437504502, 1.3975464018832613, 1.3066758444418678, 1.350411556623518, 1.261156601847915, 1.2206863377585813, 1.2271276337772266, 1.4310784237964207, 1.3457154658213226, 1.355295149469169, 1.393862911128555, 1.3036584354207241, 1.2953973529575697, 1.450650245339751, 1.5142100924779924, 1.41512165045017, 1.4294655249825352, 1.321350056483688, 1.3236325984237953, 1.2405683380671306, 1.4569907257069303, 1.568203530879686, 1.4360674603871317, 1.3418785296346318, 1.4287166051291769, 1.3382337475462769, 1.2403531694212029, 1.3821552599862095, 1.2022879229630212, 1.3983855589689989, 1.2153860244604811, 1.3523685475774667, 1.2754418135461285, 1.286015396349462, 1.2450114294730037, 1.3240929235708596, 1.3369717410407387, 1.2406814923615912, 1.2172755826586825, 1.5543202035401806, 1.4566727674080118, 1.3618281314501435, 1.4755764535448332, 1.106162462677369, 1.3051570157283852, 1.3054278633080592, 1.3250595507125464, 1.325686272082049, 1.2300912734236862, 1.5057118078215577, 1.2964536616254723, 1.5057720619683879, 1.3616541423165645, 1.6212641625778961, 1.3714024776059819, 1.4127435801397776, 1.5048849613237998, 1.425122531182635, 1.3830200525928633, 1.3199890044977554, 1.2688120625368766, 1.1929768410625219, 1.4638374718856637, 1.5377592261181934, 1.3051317664869015, 1.1054290045787023, 1.3802588330123153, 1.2194888412091334, 1.3910949660063376, 1.3101560629858797, 1.2884295874614944, 1.3506390299519615, 1.6032957436122175, 1.4026440310712935, 1.3855375666752052, 1.2061411249444058, 1.1959773031081042, 1.3868566331867898, 1.5454804851576651, 1.4078757853986963, 1.3409733940381345, 1.4808145472273018, 1.4511488811150572, 1.3781852536234944, 1.2372321838735141, 1.4762621028585781, 1.2158200036589151, 1.3877123258471453, 1.3963637555282635, 1.3710983089486213, 1.2925482859267139, 1.3869228392328812, 1.2438142197727744, 1.2319352972341866, 1.4868688558220307, 1.1616860074942146, 1.281312782393744, 1.2473566515315526, 1.0926305083394672, 1.2567396404021236, 1.3913915316687444, 1.5705688798880104, 1.104983747809501, 1.3022272880385117, 1.1792183338227993, 1.1896640680091415, 1.3635031381137666, 1.2829851367352449, 1.4820441027070876, 1.3056815671551865, 1.0268479614678778, 1.3935128519501465, 1.4287742236969403, 1.3074949290361078, 1.2912939988755263, 1.3776633313362743, 1.1620629178296729, 1.3300851915061105, 1.3665385866468325, 1.4355618208953818, 1.2792096170892844, 1.3500875616467203, 1.2995746864019802, 1.3276969416197222, 1.2215958630843662, 1.3431655348096034, 1.4567227702085697, 1.342241947960354, 1.3381488979881877, 1.2890739739433226, 1.2865156720548956, 1.2251089505030439, 1.3076163134712409, 1.511574738567633, 1.4856376506839701, 1.3954994378591938, 1.3261492819584699, 1.4260177150474851, 1.4321041022317877, 1.4668559356376378, 1.2398000237044244, 1.5637144061622383, 1.4350242506668229, 1.5507848465786958, 1.3701155270252321, 1.4465146063566823, 1.2515562396601556, 1.3252153857919822, 1.3711116552124312, 1.2233029036221967, 1.2956879196126978, 1.1836779066893131, 1.1700862101887441, 1.5161590712066166, 1.15570606471271, 1.2624483351450049, 1.3507222342812668, 1.1950461107456871, 1.2059091460292219, 1.2659391676576839, 1.2319913090156513, 1.2899477841619205, 1.2028787645284442, 1.2736130890810384, 1.5148197046760494, 1.1692007871033174, 1.414782300978396, 1.335920272072491, 1.3809346765150594, 1.5998584411810093, 1.4130587554649832, 1.2610086427519669, 1.3051716199696832, 1.255071021430229, 1.1265036205796231, 1.1784086856468841, 1.2500411987958169, 1.4475199806853525, 1.6248644594255364, 1.288059330007479, 1.272176691815627, 1.1612926061519824, 1.2623356132092818, 1.337868147115064, 1.4006539214534119, 1.2404835611727432, 1.4927312277149696, 1.2215140305629995, 1.4046711598602482, 1.6846228551345099, 1.4204518987435588, 1.250925597618666, 1.1991850329901006, 1.4307808396412356, 1.2170963304133628, 1.4195564960271529, 1.4257885539031918, 1.1306538278458016, 1.4936361823456508, 1.3469049298027957, 1.325894987993699, 1.3039238942131615, 1.3171118538814672, 1.5417278225651785, 1.4474237511400083, 1.2482553745742426, 1.2007803677085036, 1.3145797993119284, 1.3547582583543762, 1.2516182442582804, 1.2908518844484196, 1.3685783356532601, 1.4971041226545647, 1.3052031844483931, 1.4208160405834191, 1.3515177573030153, 1.1031071633450349, 1.2341888145599769, 1.2247665592050641, 1.463262416401732, 1.3730662209083773, 1.3052487419011913, 1.309057245183918, 1.3957831621027976, 1.3418786953459434, 1.393173461483622, 1.2203020258195294, 1.2770229770032011, 1.2304741314044316, 1.2353927450708362, 1.2297194207438011, 1.413976954639889, 1.1645225285812462, 1.4155437500326116, 1.6149705070248053, 1.3183147065138638, 1.3790972282410743, 1.388122473025875, 1.3012804262630895, 1.2494375232452797, 1.367571665729435, 1.2463685386577237, 1.2735660345533584, 1.0884604157441837, 1.3071057895994196, 1.422863818202504, 1.3793700041464598, 1.2065212777584635, 1.3495929739951007, 1.2680081174588811, 1.4548102233672204, 1.3596073017232031, 1.348370371095641, 1.3064401434130417, 1.4684452229638325, 1.5218815841327693, 1.041466306688454, 1.3541538656768308, 1.3343576528940013, 1.2124618426120652, 1.4644993910993924, 1.2426426061629265, 1.6167738823078255, 1.4194495604407391, 1.2413878935585516, 1.3684831032750115, 1.3621860348961192, 1.2700093850832372, 1.2974850267729272, 1.1544373126000775, 1.1909682349847097, 1.1221289337960825, 1.4102358558557024, 1.3127527113527775, 1.4294249478067851, 1.5312552977908622, 1.3644962925052475, 1.3055714619248475, 1.2961924170888064, 1.2117963962922265, 1.2239498736693875, 1.4508166122327519, 1.2095156938458804, 1.1799047762449544, 1.4588769167813427, 1.406973252419125, 1.4199181442158659, 1.3281659521202787, 1.2795474225230077, 1.2118887640043434, 1.5360568309480933, 1.5435789422415782, 1.4142770017716244, 1.263775932229328, 1.4440272125121956, 1.1241650316579814, 1.1425493116740502, 1.2397253683006271, 1.3904507933310215, 1.2747446212403477, 1.6216284760241291, 1.3912644811252146, 1.2709183738061751, 1.5435753009302089, 1.266076813343076, 1.3754442349602487, 1.2258366055708663, 1.3779111346149056, 1.2484557018594848, 1.099448052472056, 1.3634518878181012, 1.2421571460688849, 1.2460131451482745, 1.1942256046975432, 1.4255885283504246, 1.6343588950985861, 1.1667339200805584, 1.3305297101723326, 1.3072601654744449, 1.2668916483949291, 1.3615093616760146, 1.4854443319984969, 1.1879651556069681, 1.2771891127614396, 1.3282559458740528, 1.2764537235529716, 1.2439681211314368, 1.4904940977991339, 1.1728599894633169, 1.5469594773702229, 1.2347134776347213, 1.0484817688575243, 1.431598212397331, 1.3373691462646675, 1.2927435089492343, 1.3085703314204478, 1.2948936652471543, 1.208534766852954, 1.5611960070081294, 1.3488104126718319, 1.3030658359183178, 1.4734359320709562, 1.5375258257681881, 1.3494023003972944, 1.302702395781808, 1.3550628831736704, 1.4053849515225791, 1.1821128182049772, 1.2755304957453861, 1.3977100288416524, 1.3715915281006466, 1.2729104787720282, 1.3084064350630238, 1.3613236444515335, 1.5217671543038236, 1.5955098314825749, 1.4615693306347288, 1.2383031214548543, 1.2164431197392838, 1.4598259124633541, 1.2969783008836073, 1.1502229764919036, 1.3800762193078746, 1.1368907897730758, 1.2840708153830513, 1.2870946643860341, 1.2717215551352687, 1.5252832377600891, 1.3099570031048038, 1.1287468360806956, 1.3068252800929532, 1.1589864828797449, 1.3311093569571342, 1.3258074805604694, 1.3561535300606962, 1.5111037424898426, 1.2351892338798289, 1.2130413828779663, 1.2822625921222246, 1.5235836178326891, 1.3012979664573554, 1.3013627901577067, 1.1772348037545046, 1.3730146142464761, 1.2596917799262619, 1.2612211770100363, 1.1555330786059395, 1.2279785194230568, 1.400746352829777, 1.2534435818150047, 1.3527029306445404, 1.1705607523090529, 1.2330357215245282, 1.1405090018123187, 1.2032775551955703, 1.4528734732720647, 1.1988141298083264, 1.3518300159410666, 1.215337496200348, 1.2599462684521392, 1.360531649411358, 1.434232150303334, 1.2272331190522132, 1.4508341368653515, 1.2436013496991656, 1.2331750034908666, 1.1912393841966915, 1.2901018842527483, 1.1225919814256353, 1.2421949428740098, 1.4940955283205535, 1.3477177963529527, 1.5925780946957595, 1.1484885141069743, 1.2078569684732543, 1.2909324812542595, 1.4840739359800021, 1.2505844847238885, 1.2373954804763685, 1.0770038044088353, 1.2442934722391277, 1.1284404938184132, 1.2815848398840637, 1.268513128764577, 1.3389451128856764, 1.3012495140392082, 1.1894740556499006, 1.3828776888558316, 1.2223013801142197, 1.3276147252482813, 1.2240766632803319, 1.2594505405214911, 1.2635129197952191, 1.2004898931349943, 1.2934888116471004, 1.0262110090649332, 1.3149096290471478, 1.2078836323543363, 1.3710484446972349, 1.264103653832507, 1.3855390238877214, 1.356182734002723, 1.1136476512884339, 1.2271999887590823, 1.2991287881053166, 1.2930178918896833, 1.2760030454478166, 1.0182981139942346, 1.4221431177484736, 1.5758628440237972, 1.358307070736485, 1.19168502447463, 1.3300291969235094, 1.2451146796195445, 1.4285579075327288, 1.4726292419014135, 1.6069365833479679, 1.4960969545746154, 1.3822530886915101, 1.1997080540062515, 1.3218909857867707, 1.3165974271681602, 1.243019684738135, 1.1718665205934908, 1.3884353044916753, 1.4607867165469042, 1.3216531218019349, 1.2007921150592222, 1.4111864484844874, 1.2732245826896147, 1.1854956504282113, 1.2823362420835693, 1.3175875370652861, 1.2228183752600541, 1.2954548968122188, 1.1452842579694131, 1.3960153544262268, 1.2511479264031979, 1.1361825343823599, 1.3226831891127624, 1.2433347041445011, 1.3033359523574966, 1.4250692641907614, 1.598371527475154, 1.3076128031662166, 1.3816362225748353, 1.3239079448093165, 1.433533121988172, 1.1292127364303697, 1.3684617979561813, 1.199185455688403, 1.2943537968231515, 1.1660567264926673, 1.1848705248836042, 1.3743824652636647, 1.2343223688338445, 1.3056343781653175, 1.2595703613608378, 1.3856106695491126, 1.3055193332505397, 1.1639167761035532, 1.1606607993883518, 1.1997277965868745, 1.2559590312236999, 1.3623834195728621, 1.2371857254655776, 1.4660899485440668, 1.4678146556144116, 1.2926181711997524, 1.3826045996998231, 1.4124013946528833, 1.4497167398290851, 1.2834006955355322, 1.1502919760463617, 1.4793434239872814, 1.3089181391907723, 1.3082996303777263, 1.1144442546425832, 1.2320489767697347, 1.3286593104184594, 1.3346363384176083, 1.317960135959207, 1.2527512102476703, 1.2486799438233527, 1.4196275000158658, 1.361550721013242, 1.1081615766576043, 1.40900431299507, 1.1613964992313854, 1.2387511546654013, 1.3123734459270016, 1.2471640619051017, 1.1684269276133727, 1.1534027506976576, 1.3285986300871788, 1.4162792570216067, 1.109440020128156, 1.2609973908224505, 1.4411016817134261, 1.607655559539878, 1.0926730709865473, 1.3873240340868236, 1.1934237105718777, 1.0816701604581684, 1.3481410576155202, 1.5328129464266502, 1.2971773709729812, 1.2928920519046161, 1.4643477008821533, 1.2272319851204367, 1.1526858175529828, 1.3184371699666515, 1.3688744466656806, 1.1765472102764925, 1.2386743115291303, 1.4564481831182416, 1.3803327994713945, 1.4078696918432041, 1.3519605760271187, 1.3203814220574432, 1.1180763984667834, 1.1522741305365296, 1.2540599263449717, 1.2292644597951647, 1.2197912989762656, 1.1917447028120614, 1.3638926266788884, 1.2773218901448342, 1.2700825421558046, 1.1000903460287839, 1.3245796467166278, 1.3522979111870865, 1.548378526969316, 1.3864803940407744, 1.5569952009607431, 1.4035389212151774, 1.3727400528785361, 1.3438631871670346, 1.3607617980100415, 1.1549322719044282, 1.2367130169502452, 1.3779718059223076, 1.3356155112370238, 1.1358998103878366, 1.3053996403468537, 1.287104521594121, 1.205429030492944, 1.3974811189666327, 1.3340892698841362, 1.3946448117299834, 1.2020742917486422, 1.4782458496302306, 1.1788722912326075, 1.3115833286706169, 1.4613082395152801, 1.4775049041271682, 1.4017112159352776, 1.2806139048085192, 1.4656198631413684, 1.2041892822899265, 1.0969439029218946, 1.4421563351424165, 1.457686705288687, 1.2013456516742889, 1.1312242292871479, 1.3104403829174633, 1.3859252936370674, 1.4726026014109901, 1.3466179403684289, 1.2704424355159141, 1.4616110790048533, 1.4364553155900734, 1.159123615097132, 1.0966489298976876, 1.2870987854829781, 1.1082532438432293, 1.4039356061470831, 1.3532763080426289, 1.2131144959131488, 1.1099852551850655, 1.2990700587262478, 1.2481970421482023, 1.173840066433596, 1.1795198161706444, 1.3629645380701711, 1.3963932350166961, 1.393683096211022, 1.1990805892166452, 1.3421709642432011, 1.42198299475413, 1.3255928535868637, 1.3049208575463276, 1.2130884175503462, 1.3004432455906656, 1.3158223040923991, 1.3320156942717818, 1.3514078317499383, 1.2450834231819261, 1.2306188044179087, 1.2909694887591188, 1.4081435852501256, 1.2182456605759981, 1.3639388070338707, 1.481172056243043, 1.2658112766275955, 1.0069933192016978, 1.3080221707061397, 1.2226709326849554, 1.1308741148033203, 1.351160802531576, 1.2920177401495694, 1.2152354957363771, 1.3381265318330733, 1.3915213602935761, 1.2549266903233585, 1.2911587286870723, 1.1784958198167677, 1.3899157603253707, 1.1694252891044159, 1.3921536277576538, 1.3277088004782713, 1.318089101878039, 1.4634794429185076, 1.2546291489046317, 1.3429094302436893, 1.2758800471266396, 1.2750773092561993, 1.1138563760454374, 1.4148303628760408, 1.3542508405321585, 1.3881111276050091, 1.4529097412424155, 1.5805150673274102, 1.3318980643651115, 1.3521680401723917, 1.104522131865465, 1.2759767891473281, 1.3063394701364837, 1.3108953535666616, 1.2415946300757101, 1.2433475895206971, 1.1979985089583893, 1.3687285681479973, 1.301497159171054, 1.1235813668506711, 1.102880285128139, 1.2809052841517552, 1.1433981460871996, 1.2169375434267438, 1.1508023622969965, 1.4250316306024031, 1.4875331615033294, 1.2680337343669408, 1.499725556762483, 1.1269154727893309, 1.2759796460473254, 1.3329333661162659, 1.1283258688497897, 1.1063078266767183, 1.3328830034472527, 1.2152358786589295, 1.1248273472469461, 1.1350466657366671, 1.4384300912500014, 1.2298347162814409, 1.2492789842957142, 1.3062706978999146, 1.1347208661589996, 1.3359853340551604, 1.3276715948293416, 1.305373392946604, 1.3796472827328037, 1.390825997550315, 1.2290510865362834, 1.3568405629307674, 1.1091133523312415, 1.1844651177737129, 1.2228001129452819, 1.4442753811656577, 1.1546497345074345, 1.3069487531209409, 1.1562403397336622, 1.3013034220005599, 1.4221659005988199, 0.93048055896607718, 1.2793414271308228, 1.2213298401829051, 1.1082943589739158, 1.3205474157286676, 1.2458733504965858, 1.4129667517241411, 1.2627991219042165, 1.1673400308665152, 1.2478757790059516, 1.1589973038276482, 1.1690226566147017, 1.1661977890214783, 1.3146354029630338, 1.2483162676025858, 1.1424032793338477, 1.301410741849431, 1.4214986302183128, 1.1390333920904907, 1.3965723396221428, 1.2055671633161293, 1.2831196644636669, 1.2985320126628004, 1.1817749406026279, 1.2371345930678697, 1.2777558672076808, 1.2055155779197597, 1.3955433601960028, 1.3274788412259797, 1.1815484085982846, 1.5186600132442942, 1.2639626990663291, 1.1813473264504104, 1.2619069194935004, 1.1810958595044907, 1.2887207984953397, 1.3027423351973249, 1.6312537697506098, 1.5145742802635387, 1.2881131190223962, 1.4799115023983915, 1.1000942045178459, 1.2090844978022215, 1.1936255388689436, 1.1647331308065583, 1.2431710384410295, 1.2894069679074254, 1.1560429931909628, 1.327522177382868, 1.3043841277713708, 1.103115220084552, 1.1558282785481391, 1.399721340992917, 1.3081014394787154, 1.3100138056253967, 1.2594168035336268, 1.2907845176090356, 1.3097986225713141, 1.4190251048564693, 1.2758816973948091, 1.2429160500566032, 1.2520165216396304, 1.1622749868701687, 1.2890939381932756, 1.5094388788995552, 1.4510904252349015, 1.0189903919428718, 0.95596374228510606, 1.1584188091367928, 1.1592759047773502, 1.1239497609419278, 1.2067598615409061, 1.2523380459250104, 1.1993061041988899, 1.1989968275882483, 1.3015566294006269, 1.4637488697927692, 1.2094266720336826, 1.4547719685637082, 1.2027174224362671, 1.2501665799617458, 1.2134124596443707, 1.2549123802610127, 1.2094862613841015, 1.1046427209885927, 1.3194825307998423, 1.4691890885265977, 1.3113417227363391, 1.3449063713439442, 1.3302846638014645, 1.5780617827947845, 1.4146677874076261, 1.3077865671239517, 1.3736243087397548, 1.3776848541851092, 1.4059388296120165, 1.3775855971034341, 1.2919926360801897, 1.3354089864471703, 1.401052846539703, 1.3359983444517651, 1.1202069560039294, 0.99328304790806976, 1.4509406649225582, 1.3714834795502029, 1.3839166372820528, 1.3601030607882567, 1.1131103340187127, 1.2214340978077964, 1.2524103252790464, 1.1713814195066117, 1.09506230415615, 1.4275719543710266, 1.4410224135499943, 1.3811123006431176, 1.1003302999705427, 1.1918673540156148, 1.3040408850196925, 1.1833649424826223, 1.3404005720577674, 1.3006281574521987, 1.28197217525329, 1.4626182718442919, 1.2130391336222637, 1.3874207809367747, 1.1292774578685423, 1.2809643757729414, 1.1804344776878335, 1.2720312672448786, 1.3142212055469853, 1.2012534579113587, 1.5014226472497929, 1.2272741851391809, 1.2820798230775596, 1.2236079348776723, 1.3836529437535752, 1.5641781729653947, 1.2584637873543816, 1.4122875198523634, 1.2682031450441287, 1.4196575941922169, 1.1945701842887682, 1.5404921160965861, 1.0430871862325972, 1.1817820679378961, 1.3479722003587666, 1.095537296191933, 1.2828773731612975, 1.1822799925968008, 1.2109412143027176, 1.4227629901029624, 1.1409420979525937, 1.1066754524297908, 1.1937314267771166, 1.1646289117574369, 1.3573754870214909, 1.2380924842049568, 1.1723175788298259, 1.142623713072497, 1.1190571816072188, 1.278582861116679, 1.1988117587460143, 1.2319390326465962, 1.3130692446827228, 1.4580372565961834, 1.2100567175945722, 1.538011625966893, 1.190127045519707, 1.2693022476984719, 1.2032375740749537, 1.1000037611531832, 1.221357677876324, 1.1705042568635231, 1.2450825979766873, 1.3658245835021461, 1.125396942790633, 1.1292861339766453, 1.2542911868082081, 1.1956639115513885, 1.2908743249156995, 1.1908998910485096, 1.2033260332682847, 1.1264759030421745, 1.2979268940009512, 1.2576181280647216, 1.1739091855195609, 1.5558322063783996, 1.3989887460866715, 1.3423024838048756, 1.3756696571815852, 1.2001122446766714, 1.3316593921161879, 1.1322582160594592, 1.321605968402026, 1.2508572441237771, 1.0374598020560213, 1.3349390729924966, 1.215579397594825, 1.0830172372240627, 1.2169158384806178, 1.3684072924983877, 1.2625103416964174, 1.4861345660670047, 1.1419931959773366, 1.2103777072519013, 1.1498130130361359, 1.2848724405069469, 1.3635934667233303, 1.169149741597783, 1.267019692307529, 1.2494673645639345, 1.1180036986853021, 1.3453571659693635, 1.2464595351748649, 1.0951442683487029, 1.1715450687865461, 1.1833814723890181, 1.1076311845735283, 1.0917447438228045, 1.3281383669402596, 1.2207543299041079, 1.2595492914409399, 1.3347412307170332, 1.0352610114059788, 1.2052400212118346, 1.2061243184911472, 1.1997134701371384, 1.2387353015665246, 1.2599187702255441, 1.288178857609946, 1.2682856407806773, 1.2498225615958596, 1.2372501153279096, 1.068912770334759, 1.2223797481405332, 1.2360307284441661, 1.4356969870638649, 1.1045614086060103, 1.2920677057278545, 1.3418388801241703, 1.2071556447021585, 1.2620974869228423, 1.4479719480135593, 1.4950357766751887, 1.4226488628599925, 1.1305327007237085, 1.317929190158275, 1.4259353729990027, 1.3179513504390603, 1.2129156204042053, 1.196501796374164, 1.1759620430674906, 1.432989180095684, 1.2045893250452808, 1.1416836956809318, 1.2701993116070753, 1.3407168167325585, 1.37213767388276, 1.2141661695510912, 1.2173625870546629, 1.2097274652410241, 1.0921709462633373, 1.2746530482208398, 1.1664626161497247, 1.1135888358623118, 1.1530696623307457, 1.0428180698293803, 1.255519122515897, 1.3632619657161957, 1.4624040830691081, 1.1734073496173314, 1.542909916602516, 1.4921229557485987, 1.402916882470042, 1.1828912126906688, 1.3531906911430152, 1.3070117953799056, 1.075882010266018, 1.3691980392220895, 1.2236451959653714, 1.4532605424280061, 1.2179412762537216, 1.0019730149623192, 1.1619749119868588, 1.1211886640443123, 1.13014562046054, 1.1223146094769385, 1.0709154948189263, 1.1549333771011234, 1.2402570354113658, 1.146709569011866, 1.2436648175745086, 1.0518168240709027, 1.313690008409037, 1.0887687528411496, 1.1104643556586566, 1.4909197132639982, 1.320724845385707, 1.180255792485275, 1.3170019683507437, 1.3446531217149442, 1.2674942972825649, 1.2870222043601167, 1.4585066694359639, 1.2688741191569677, 1.2278483703565248, 1.1247571734635207, 1.1696532478037538, 1.1826583937020843, 1.4141614094345318, 1.3491940753072229, 1.1035575795460137, 1.3751860144619767, 1.1287008417650235, 1.1162934505240754, 1.1386574578214403, 1.1860939311941141, 1.0625089615054564, 1.366142052269959, 1.3729191268361942, 1.285571838406034, 1.1598294235430855, 1.4343504393388931, 1.2528685427285424, 1.3759571918953331, 1.2055657493971277, 1.3925018509547546, 1.3993852844339423, 1.1562936513148585, 1.1496397476429159, 1.2515870079757316, 1.2599268045779268, 1.1262017356602356, 1.1883812750280578, 1.315989670572022, 1.3565701945652471, 1.173029132570133, 1.149929579350746, 1.07035250466247, 1.2282981078772497, 1.3160053589522109, 1.2193970409245098, 1.1951784502698852, 1.0725336655631459, 1.1510689246036678, 1.246529279984246, 1.1753139335841953, 1.2748681147268754, 1.2389898282318819, 1.3438921209258794, 1.2895468935736674, 1.2319688828088002, 1.2304042532439379, 1.2047935665616083, 1.2174760480358968, 1.1728331668676613, 1.2991790193906907, 1.5934190877261567, 1.3865511898595766, 1.3931827960824983, 1.111512425382591, 1.4749381243777611, 1.3593679682980735, 1.1547065025269878, 1.2137358965179308, 1.2599735847197895, 1.0951787425150077, 1.2484897470262879, 1.42457764673165, 1.2473789183344888, 1.0915725335185738, 1.2943121975393357, 1.2201304652724376, 1.2608237355064829, 1.3020088571741368, 1.1482605699831461, 1.2001574520741547, 1.3069339660281145, 1.3004748284650471, 1.1436499865314864, 1.2455547507650633, 1.3086817767457741, 1.2494590513778614, 1.2502758474349533, 1.5600649030477773, 1.0690662115861611, 1.1633743253412663, 1.147508117493236, 1.1097427782301732, 1.0678098249744727, 1.2544625377159335, 1.1206775129069781, 1.1739631016318355, 1.3084101388342633, 1.1446389949146898, 0.99604064252075553, 1.3067757898900039, 1.1492403184115736, 1.3211497935310361, 1.4384360930673985, 1.2635468819458335, 1.2884764186661033, 1.3826706389101664, 1.3101656032312989, 1.2973008192607682, 1.4987389855277056, 1.4616949328423106, 1.2534019774137539, 1.2621476029645755, 1.1492392896264016, 1.0305685285828967, 1.1731678746209686, 1.2438851284790617, 1.0986341215705751, 1.1162309580518723, 1.29362214319159, 1.1204880342725869, 1.1534452170179721, 1.3509114354296383, 1.1414510075698903, 1.4575346930440065, 1.2622404441200494, 1.3444354879644111, 1.2141245867009693, 1.3588629309034064, 1.1822404456766473, 1.346971209141526, 1.4705974847637191, 1.0630223459719357, 1.3957278269752287, 1.3202264539196435, 1.0702732228333078, 1.1837248404957872, 1.1245582916274839, 1.234594246843516, 1.2030671292787274, 1.0822868154157581, 1.1695121783711551, 1.0762908689347577, 1.1127279821978542, 1.2697887655536213, 1.2326665530284118, 1.1794403331080991, 1.4039079489897046, 1.4556394867741056, 1.3097361109140138, 1.2843374333452717, 1.1295826568643468, 1.1520573120371944, 1.2281531598662487, 1.2849263859597144, 1.1098545960499804, 1.0534813868963062, 1.1125677671038989, 1.4018936273879468, 1.0262934682518698, 1.3027617834710041, 1.371810026837943, 1.3982335724747523, 1.1939038781715616, 1.2077992720808979, 1.2223286496460097, 1.0591375592754479, 1.1258828329972042, 1.3171049167836322, 1.2646705261449387, 1.284598915278744, 1.0637438339096161, 1.3633882372805026, 1.1389032577175719, 1.3149239914266189, 1.2416992059439695, 1.0716603791707462, 1.218962164853471, 1.3947820626295855, 1.2755397246549041, 1.1268377291225773, 1.3019569048910773, 1.1887981139491683, 1.1360895316723241, 1.3838918387453438, 1.2825178961717585, 1.4060905032236455, 1.3850805615023134, 1.1728657030794423, 1.2233875268280341, 1.350856804968259, 1.2309089186743238, 1.2028047843035734, 0.93973860043226765, 1.2879978177848481, 1.4515045486445834, 1.2396475094274577, 1.2208888766357446, 1.3429780363823187, 1.2705715120639907, 1.2009273844216164, 1.053353044284461, 1.2088568426861295, 1.3076811000910717, 1.2059891392199742, 1.34760551929227, 1.3731529417191675, 1.2287078931009978, 1.2862168106369056, 1.3756698291586493, 1.1863104907041282, 1.483386746950476, 1.0943684689471365, 1.3589288524760905, 1.3099675973549298, 1.3503580180052797, 1.243461559935338, 1.4154722609994876, 1.2242942816647517, 1.2971855771732779, 1.3413418585395609, 1.2824928950291046, 1.0665661066604952, 1.1662736818885002, 1.1579851983142386, 1.042377276081724, 1.4023000180088505, 1.2543810013536367, 1.2875112406885647, 1.29049606360481, 1.0894364326060468, 1.2331500558329995, 1.3336026904262759, 1.3717474482318353, 1.2414749405770091, 1.1799401757040955, 1.1361140148497828, 1.0893297813520186, 1.3322840592418752, 1.2471939885020877, 1.151767786404877, 1.2883865954889315, 1.4712971269144091, 1.2368711001542889, 1.3373946923305275, 1.2797112092628291, 1.2778082458095708, 1.2733849871367879, 1.3391537666913811, 1.2864298008105426, 1.0910981037690017, 1.2720839191653901, 1.3319635044239482, 1.1018202081153423, 1.1656816852526526, 1.3135146669489104, 1.1108497376789825, 1.3556487371692389, 1.2739548222175368, 1.1610687929743155, 1.4335494874172372, 1.1482095908013019, 1.1918601961978554, 1.0224869269394792, 1.363567189763973, 1.1698935156114028, 1.3817109553560531, 1.2685229853010938, 1.2084233155018465, 1.2329981843489166, 1.1456737623829432, 1.1013991369692675, 1.1658755160880103, 1.4624317945939624, 1.212191924957376, 1.6989943664191756, 1.1703842570378702, 1.2419978247275392, 1.0700253448932484, 1.3083345613962785, 1.3591658086472587, 1.0695430087051789, 1.2785647603098491, 1.2651375748588813, 1.2872555227459952, 1.1181769522756158, 1.2989426208415034, 1.0648127878616511, 1.1864645703589194, 1.0994436754307872, 1.1392266923364522, 1.3079898144321227, 1.4165537959339667, 1.2753638169660264, 1.4467731635149363, 1.0294167390963129, 1.0421612995584113, 1.3149873312753131, 1.0145919970940176, 1.4115153043887212, 1.2197796144591788, 1.191802251767498, 1.2015145213469764, 1.1766059523479733, 1.2369106870632729, 1.3199997389726987, 1.0539437689521118, 1.1289285021599647, 1.0898529577568854, 1.4171795600417523, 1.1725221605741472, 1.1782084715694108, 1.3675198244563334, 1.3690941010000761, 1.1141456237110627, 1.2315637186806525, 1.0965231761973153, 1.4434760129815596, 1.1924777767106549, 1.5119172009810633, 1.3783299881322115, 1.3235436275914143, 1.253757325747048, 1.2753735874086951, 1.3236042414003792, 1.1882803996548523, 1.0284640334095301, 1.2954519405536689, 1.2489753311440686, 1.2360441386236258, 1.1358137704817937, 1.1246576132893922, 1.2909275351025582, 1.1529668381040423, 1.2035332105429184, 1.3146831796334655, 1.3163959096061948, 1.1789771078865974, 1.2540242515382873, 1.2180233645198089, 1.2249561699000393, 1.0905763329527143, 1.2664881700805417, 1.1490055645369663, 1.1761622572001826, 1.1098991048020463, 1.2483338795358585, 1.1853727954635873, 1.311416200305743, 1.4386427886531781, 1.5180426410111914, 1.3599360784054619, 0.95058968822433676, 1.1663967744437433, 1.1472763137659738, 0.92634389446499232, 1.1295934992932266, 1.3493717758921806, 1.2016125945166858, 1.2885748765376455, 1.3611027254237467, 1.3807444715970105, 1.2898949290195953, 1.0663300840929808, 1.0345943894971525, 1.1790680652279852, 1.1197915468463975, 0.92881678351618613, 1.0725997622965291, 1.1551723169943697, 1.1780240427043907, 1.3843094055923826, 1.1831955180627352, 1.2247488889975608, 1.4418295915264627, 1.4400881535985859, 1.158440351691427, 1.2738616209386904, 1.2487826099945889, 1.2876132856113918, 1.3611951167995524, 1.1610759879721746, 1.5038544637374864, 1.0287901354202142, 1.1655276934850167, 1.3880960865682466, 1.4604865598762096, 1.1632126935130851, 1.4023799080782473, 1.310200914920101, 1.2090209472965037, 1.1690089997523088, 1.1630424773975017, 1.1067328359117965, 0.95781176085347453, 1.1471246186460557, 1.1470379913005437, 1.3232044703751538, 1.2193428969662294, 1.2523763315993341, 1.2063137507696731, 1.063288468873935, 1.0758468201700249, 1.2376680796574024, 1.1138371117237029, 1.3860409885735114, 1.0217861407241182, 1.2891916202248723, 1.1651441461699663, 1.2279903589209751, 1.2853912896516158, 1.2792744017319773, 1.2423771965890047, 1.2079085651279562, 1.1892792054193864, 1.1522163079072738, 1.0305896369919023, 1.2681615428069453, 1.052006132741643, 1.2902800374983985, 1.2713763291037867, 1.2515405832593551, 1.190013149896346, 1.2525539039495859, 1.2225621729337635, 1.4340164777269886, 1.2615942264505893, 1.1923311804838088, 1.2242796540630569, 1.0131389348207274, 1.358962307425335, 1.4298274131178335, 1.2873459867881505, 1.0420574812317833, 1.514194307282245, 1.0784154058983229, 1.2780934398019954, 1.3579230930670172, 1.0453807036226483, 1.0659034802156906, 1.395072238488178, 1.2377688638158482, 1.3147560214113128, 1.0749659803096649, 1.1933082827383417, 1.0944207401000101, 1.265039729984117, 1.102584869625667, 1.2805467335624021, 1.2973626788519843, 1.3017020850236658, 1.0945090649793885, 1.3215414865613326, 1.0007185919051145, 1.4126002036915748, 1.3303701854371353, 1.1691781576175357, 1.233332625124012, 1.1260987868050865, 1.0751368829638566, 1.0980792727476512, 1.4088975948956888, 1.378370782962796, 1.0665537425959208, 1.142437861728375, 1.3332239960390351, 1.3310774588044934, 1.2958284200504255, 1.0986132288135391, 1.1303760652532429, 1.2297340815787787, 1.2253297646650927, 1.4908753030808672, 1.3381395721483278, 1.1462417904119171, 1.2622189911185242, 1.3871151635939181, 1.2517699877332269, 1.1108946429619009, 1.1664015344233836, 1.125095230534553, 1.4109715014843043, 1.3661314876779571, 1.2891325964548945, 1.0348542791542412, 1.2081932556284445, 1.4605189960009737, 1.2350067508137768, 1.2241811639174112, 1.140461889754196, 1.069554035207309, 1.3844043255604901, 1.3108638100716465, 1.3152179954925933, 1.0674842100461051, 1.1427724717724226, 1.0313788774181238, 1.1021949432671838, 1.1445477718997761, 1.2485432606689095, 1.0650483787809513, 1.0876518679391634, 1.1440881378602894, 1.2148000452742465, 1.2819268365991912, 1.41547367872133, 1.3060643649018104, 1.162325856521838, 1.208949611689361, 1.1353805274122477, 1.4051330482858497, 1.0963721083641085, 1.3280942187750395, 1.0428421026090147, 1.1953728031788395, 1.3440013641230069, 1.2000424926553397, 1.3009224772331727, 1.1045160835411598, 1.3328569960470633, 1.3715037862524977, 1.1212317005617396, 1.3271370878174362, 1.0853522132251303, 1.2528280621731402, 0.97462353818187164, 1.2255507510066279, 1.3324510784820249, 1.0582286078795005, 1.1508727328057833, 1.3117772938539161, 1.0909515554024705, 1.0620845377515478, 1.3494429671922978, 1.260082983072117, 1.5163337721927239, 1.1120674432727404, 1.3362699678211574, 1.1050056492784326, 1.3645425856827715, 1.331960816486109, 1.2936980655952601, 1.1331430301146046, 1.2230573615452078, 1.2789769551675163, 1.1833452750921469, 1.1049112578502911, 0.91285830724603478, 1.1378787484831918, 0.98986090349433598, 0.9704522484302609, 1.2758592405375115, 1.1665114826249323, 1.033238910488073, 1.3026722213675246, 1.2641750216565413, 1.3122132318683244, 1.2880758669175694, 1.1036650888320314, 1.129858278413689, 1.3453731730594185, 1.1715586348082188, 1.2194428947380993, 0.96280021557711626, 1.2121279454134872, 1.3541649723299585, 1.0689314038897926, 1.3353474730796122, 1.1857399514560512, 1.3330688861816209, 1.4516726316206638, 1.3711086103654206, 1.3232795606812024, 1.1369285213264484, 1.5048225457102937, 1.0781754917713016, 1.4163313484989457, 1.4543503319216917, 1.265828267297598, 1.2180316820562933, 1.2956027110731365, 1.2490336493261951, 1.2872193361810449, 1.2947513397223944, 1.1918042625736165, 1.3641559856873688, 1.2778947347794289, 1.189192089679584, 1.3405603010081664, 1.1281280268837539, 1.3479296363716085, 1.1850614006553377, 1.1123253254921555, 1.0498654921217931, 1.2189172168745299, 1.3179435766449983, 1.261754696463911, 1.5025559901209922, 1.22020181240194, 1.1449808250183888, 1.3318800256893906, 1.2379666972547843, 1.3625105192866964, 1.3777962870294178, 1.3702813536456881, 1.305737044905491, 1.2780122362684148, 1.3328853957911917, 1.0262783312112322, 1.2951591407343672, 1.1426716413957871, 1.3440180711888663, 0.9238362546444755, 1.2737988797418809, 1.317146214395418, 1.2204528587447476, 1.1073588834786026, 1.1272862439289302, 1.2897384361123503, 1.2411206653295657, 1.1642931171961579, 1.3990488012632765, 1.1953643405268228, 1.1994880674862551, 1.0479578982956397, 1.1423880660161221, 1.0947722527926576, 1.2624277487945741, 1.3300714895109798, 1.2948148559965751, 1.2190890807124017, 1.3083082475609109, 1.5389439521566828, 1.2219314377656734, 1.2838343562828376, 1.2545594863553269, 1.2216562562026692, 1.1877882813441778, 1.085533196825462, 1.2127076141193247, 1.1039110775070053, 1.3108439861548826, 1.3443613200194127, 1.1642497135987024, 1.1969789276907938, 1.3115984695127036, 1.2482262319300212, 1.2847742963839177, 1.1820273316988457, 1.1098373021231058, 1.081670014317778, 1.2871865743583519, 1.2535033291612683, 1.2764348140247828, 1.3432676255704106, 1.0843850964444701, 1.1587626848812418, 1.3258090628591392, 1.1779003897068809, 1.222800981490797, 1.4778261055228077, 1.3537986808024483, 1.2345077217092082, 1.2703628112799701, 1.1416150317425595, 1.2423167875368761, 1.1490597286772595, 1.150583839506133, 1.3164279206872926, 1.1706005036766334, 1.1047234778684971, 1.2766152781721127, 1.0672883092798156, 1.1477737025355796, 1.0574643719570909, 0.96489293165313317, 1.2410632930513461, 1.1738973135461659, 1.1358987758266883, 1.0368215979941107, 1.1252696162432907, 1.1892995169040246, 1.2834658146964639, 1.1894311665419735, 1.1353299451381111, 1.1118608343320953, 1.1611585726882441, 1.2083243933359982, 0.94298997089454584, 1.2712097050579028, 1.4034656887927077, 1.0551438356774538, 1.1194654892529827, 1.1626556779731891, 1.3267517806877382, 1.069397061032219, 1.1860993263718154, 1.1553332359424171, 0.87927472000884122, 1.0124587879831608, 1.1054878868550853, 1.4610129796969862, 1.1832918825509753, 1.104493465459627, 1.0371325808678238, 1.1590246377165534, 1.2769852816125047, 1.0714479476494765, 1.0812458581906952, 1.0615402612909437, 1.5250114049811359, 1.152280327683773, 1.2625930388467339, 1.2618984719693063, 1.2355147474639272, 1.2960912660404194, 1.160629987656161, 1.2206449297077311, 1.2251526567348738, 1.1381313754171676, 1.2977354060388735, 1.3203980956180583, 1.1632558221420291, 1.0669483788226835, 1.0743770188938704, 1.1260459661499596, 1.0978250907822551, 1.2708834044092767, 1.2275578590369971, 1.153932328144079, 1.2161311627173783, 1.2808924069064394, 1.1990089977123837, 1.1629319016499087, 1.290566099339902, 1.3065432992391917, 1.1951862053103819, 1.1097900940683654, 1.3016419001420896, 1.1777660142318445, 1.1636141794601891, 1.1638042206117774, 1.2429735820918593, 1.2830660541183547, 1.2601308010566288, 1.2789720467743559, 1.521427247717527, 1.3075371004786109, 1.3789809651744269, 1.2557434239831413, 0.91391815320435599, 1.3155704543094524, 1.0346396025340845, 1.1607020816381606, 1.1245924887638858, 1.2778407346828673, 1.1108449213519445, 1.2693624975212627, 1.3612311982610312, 1.2611668899012125, 1.1897470021825174, 1.2678379878274861, 1.2095801986919055, 1.3045917281793502, 1.3108947779690243, 1.0962523829399289, 1.1377896248076138, 0.91739009802101135, 1.0538108084481934, 1.1793818699700085, 1.225115330295576, 1.1477437386394522, 1.0957643479245849, 1.1892818017667286, 1.2691059218171126, 1.222557530445074, 1.24102597152585, 1.0951041724148396, 1.285499306659815, 1.1238752886393075, 1.1102916846485298, 1.1447962244422663, 1.0622381171189648, 1.2105784182508352, 1.1516267096988664, 1.2693311750604359, 1.0649863313758796, 1.0122280473052638, 0.93563894461874619, 1.2735775589635643, 1.3205874615734561, 1.3245194205364696, 1.202502960808745, 1.3138414355845527, 1.2398440587900899, 1.4197574697992843, 1.206823204319484, 1.0553220592463841, 1.1720955622993108, 1.2581374464987458, 1.2328891211158064, 1.3047630633559404, 1.2088951579460199, 1.1338479948265814, 1.1259050359999925, 1.1719455619676908, 1.2579744512587832, 1.295733614828477, 1.3207911005257438, 1.1906963487934403, 1.3846767042320369, 1.3556731349485638, 1.2014249468215965, 1.3796624997421389, 1.3157526716282546, 1.3305353002471019, 1.0670184733461543, 1.0529943697245026, 1.1774023402752827, 1.2521922454041532, 1.2191363733841218, 1.1262967694991344, 1.0878935264812168, 1.0248294542909595, 1.3644638464604089, 1.2400163067792378, 1.3638677221996283, 1.0041997887404435, 1.166434038623533, 1.347566352553313, 1.1876170612634298, 1.1991175502380376, 1.073826666562762, 1.0007857780672715, 1.5561182812835073, 1.0376301804730532, 1.1166061956210196, 1.0921545748909793, 0.98926291330269556, 1.1973246676014107, 1.2122602841592902, 1.0335852197410402, 1.3027316271846303, 1.0376800075521577, 1.3065267804352569, 1.012545464885362, 1.220479929265931, 1.1996475064597434, 1.2197248702411452, 1.1729910675129351, 1.1367088675771853, 1.3913392407450649, 1.1976811530401485, 1.2695533401533101, 1.1215351758821905, 1.1334209310761869, 1.1209418943749334, 1.2600760150900046, 1.1038405930691446, 1.244935277434813, 1.1207776077385065, 1.0644040034531361, 1.3169825950594516, 1.0438912750621381, 1.2795888464265759, 0.99164718234611626, 1.174608407432949, 1.1267400252196356, 1.0948091720500144, 1.2311953260687178, 1.1248862763541159, 1.2177080398600146, 1.252674597254545, 1.2494530889970716, 1.2847873853202654, 1.3333646234461147, 1.2141761668065654, 1.1496579257060131, 1.39965727671913, 1.2481307523568843, 1.2130822391093221, 1.392725471999491, 1.2332891581567917, 1.3356135768895681, 1.3071846591834764, 0.96527573846442816, 1.2728000269790272, 1.3348915973081696, 1.1824606519477343, 1.3622395568784977, 1.5310726123701015, 1.3968910342590266, 1.5251610712629864, 1.3038400441767088, 1.2758560901758167, 1.291252235906885, 1.0541921534499592, 1.1891065894644528, 1.2032632458068682, 1.1828460792068676, 1.1312459131102104, 1.2808812185174907, 1.3269522719370763, 1.1637279168778538, 1.1555543409170024, 1.0799896154983823, 1.3817305619814069, 1.4966796577743027, 1.3663404923954736, 1.2421276643167545, 1.2307903175059629, 1.2247920352071968, 1.1863094756412493, 1.1042549323971593, 1.1943858170674415, 1.0719653265020168, 1.1852670493661519, 1.2215823161389479, 1.3455963221398526, 1.2973053849003005, 1.2622515258558711, 1.1176935131181966, 1.145816755752328, 0.94060600909443037, 1.0365836322882716, 0.99947855079228742, 1.1208643330997663, 1.3618122337608058, 0.99045490014892967, 1.2490819382131877, 1.1938652003396648, 1.183648705063816, 1.0889905016834394, 1.2832316878905214, 1.291084015862481, 1.1554346305422623, 1.4287492899104135, 1.1467724616563166, 1.2519678498043261, 1.1249173452917582, 1.0962987803941897, 1.1034824106180618, 1.208329279105133, 1.4280748583356304, 1.2851436725475656, 1.2240203689476958, 1.2936421494314907, 0.9904060835672297, 1.0541202004941637, 1.118793784289821, 1.0725008176962301, 1.3123440250237051, 1.4066635222413786, 1.3090766609576858, 1.0845676811294924, 1.2039793527159977, 0.88134307892814401, 0.99071446156697152, 1.1888065935380474, 1.1747392148977533, 1.2515094673964522, 0.89076322078229675, 1.1141322846612858, 1.3441513965129281, 1.0105316444617216, 1.284810378283928, 1.2594487755287891, 1.0161224609401804, 1.0753778986250377, 1.0862572296111066, 1.145239140160047, 1.0371169502250865, 1.2308495801782662, 1.052975238063792, 1.1594707044211616, 1.2004861210115012, 1.0723598883438306, 1.1299797078795586, 1.1289380096962869, 1.0832792248475869, 1.2764656376517058, 0.93633262802293105, 1.2365587895545038, 1.0234483229872124, 1.3061374521691207, 1.0542000818010491, 1.2129820928602637, 1.2050965491443471, 1.1573897504293942, 1.359291892725909, 1.3068627860778306, 1.0505904933011008, 1.2281633658051618, 1.1285030867009991, 1.5287772108606748, 1.2022438160652511, 1.132561337502934, 1.2226368575623641, 1.2933047147098582, 1.140579938087976, 1.1705383480959768, 1.0681780676988071, 1.2181544985743074, 1.3203847983922965, 1.3305338256643675, 1.1444790751001881, 1.4535617273660539, 1.1208140445829513, 1.1064610985708816, 1.1042103292010697, 1.0365542822168519, 1.1203714843549226, 1.1633815050348917, 1.2198484070546023, 1.1397722240481323, 1.1400166201218296, 1.2803107562014984, 1.2748971847406185, 1.1922215310558959, 0.87306541927924231, 1.2389708134381883, 1.1573197054320612, 1.0327451798031007, 1.1636483234022366, 1.1190547644950435, 1.1036647765924026, 1.279352680064904, 1.1023215357395308, 1.0407257199737281, 1.4089965307700412, 1.4957245348662047, 1.0309827712921877, 1.2292000596419936, 1.1695476018756985, 1.0926795627480952, 1.1607656275990197, 1.1377099976064116, 1.0507583233849265, 1.2359354980330737, 1.1818261450659349, 1.250006487659763, 1.1735158700077624, 1.4752272812597842, 1.2274550060088594, 1.2739181224830378, 1.0388773909295572, 1.1956664840265638, 1.1684841019891696, 1.2109878322154894, 1.2448891022087527, 1.0296138551378937, 1.2236532126582025, 1.159926618169753, 1.1694452667641968, 1.3236624001849897, 1.195094956768737, 1.1405519446261871, 1.2439976054434556, 1.2587287412362569, 0.97465053981561101, 1.2442035954424091, 1.0640404949816498, 1.1937573157018135, 1.0067893590219201, 1.2203395484848392, 1.0846446774147784, 1.1300701464954803, 1.0007679792823398, 1.144800539172341, 1.0531858814290294, 1.1871223210528501, 1.2662281232855523, 1.241763866136663, 1.0697435816133372, 0.8859284370531455, 1.4362765220508789, 1.4286857593958051, 1.157703630442463, 1.1476842413859221, 0.91964835407153367, 1.125432372443034, 1.2062091685046326, 1.0421847519261902, 1.4158186148636018, 1.3183071389319443, 1.2541090370293444, 1.1850077330625788, 1.1394919130705858, 1.4703022951458429, 1.066528443510788, 1.1300639489601096, 1.1463458159600211, 1.2807886632022447, 1.0890160630448904, 1.3269028130976501, 1.4232385480092093, 1.2667419246718064, 1.1598305104755502, 1.0961196370606778, 1.1688055759561098, 1.2623325629427522, 1.3206273253129726, 1.1880761302821738, 1.0986106182538271, 1.181878268209249, 1.1979736561736691, 1.2199636905534277, 1.1246469102735457, 1.2524285356676039, 1.2298435142911814, 1.2369270725574775, 1.0907071370064889, 1.2618904256020971, 1.3387561028120678, 1.1075201841014513, 1.2935665188390848, 1.0448419957890624, 1.0150843246629955, 1.0554705133312257, 1.3783747005532809, 1.0696248927002932, 1.1307926460599365, 1.1707001685312703, 1.3287152673776057, 1.0404535787705742, 1.3451836635485401, 1.0326778327695232, 1.2182426939557103, 1.0331749781805339, 1.1772789742694614, 1.2344208636998411, 1.202909860739602, 1.2909883588507893, 1.1044646145819765, 1.3298531452685054, 1.1087243653498187, 1.161506788970905, 1.17767237784943, 1.2474060065473189, 1.0955698732158907, 1.2736810724956074, 1.2479749155493298, 1.4400440416164684, 1.254858379644286, 1.38098361143806, 1.1094602872151409, 1.1474789293088834, 1.3386780875166409, 1.1736559218240539, 1.1837406727845052, 1.1923728065247881, 1.27329861662495, 1.1300853041385941, 1.2499123419983245, 1.1488235479507827, 1.142760890975574, 1.1617795852712565, 1.2523702794568228, 1.3421713619394795, 1.2579157814389614, 1.2282811871335386, 1.4651718695818492, 1.171655714609062, 1.0570504313254718, 1.2232171400338496, 1.2272777181072172, 1.076744897079601, 1.0665999341684016, 1.3173090233319642, 0.98669394157613222, 1.274144643440476, 1.0574829284284177, 1.0496153360967697, 1.1995851393362771, 1.1792357169103878, 0.9985416592700106, 1.1726740736189627, 1.1665713704774407, 1.1461422928680947, 1.2980118040093029, 1.116593228222577, 1.5052023518986695, 0.97013183129947178, 1.0581820837696301, 1.2569696256392611, 1.3540344183318518, 1.1937518501026159, 1.1505866067635466, 1.2147283783095884, 1.3691491229916721, 1.2072072287443907, 1.2626002397964675, 0.99546788015446963, 1.4528632187471298, 1.2004055192824135, 1.2683813235817369, 1.108028641278292, 1.1510910641627676, 1.0184901922509222, 1.1674351600280772, 1.0898038459540478, 1.1952071808342351, 1.2844585952849343, 1.1066476504056297, 1.0867083036740719, 1.3417223274557317, 1.15801798993982, 1.1253770229584035, 1.2152801258955732, 1.1941369047897874, 1.1204326245677922, 1.2909974567622806, 1.0646411120175059, 1.1771577014990831, 1.2367090612515572, 1.2132307183697144, 1.0794283079448888, 1.2339731772377813, 1.3860200693522349, 1.2408638631356692, 1.0628893990905344, 1.3323140299854588, 0.95617070862770126, 1.1043618051076574, 1.2044644353819669, 1.4675508063232028, 1.0917857293464559, 1.094382496246842, 1.1179547553149927, 1.1961621855322697, 0.99996606937852694, 1.1138457000079427, 1.0738438320750097, 1.065395339664801, 0.98124566316050743, 1.2156263526292443, 1.2108132414453969, 1.4291464773923983, 1.327840388522302, 1.0287677418095984, 1.2757587481796739, 1.1080658659279055, 0.98911094023873136, 1.488378845980423, 1.1474652734129274, 1.3940171772749794, 1.0478304471793329, 1.2246708596951148, 1.0280706624546019, 1.0790573201717035, 1.0350267085279607, 1.2029945814394747, 0.93478390322272298, 1.2622701467543413, 1.2331699791964772, 1.1327646505988971, 1.1589745826890303, 1.2131625391455063, 1.2859210793932232, 1.2578639694354763, 1.0621632307172904, 1.2017597971797087, 1.1099628322755013, 1.110973440493829, 1.1572122419658581, 1.0525340765749933, 1.0835093362506152, 1.1430717338273764, 1.056441552264251, 1.3378967023207864, 1.1435887272117948, 1.007477166150041, 1.1357747150392929, 1.113025713059, 1.0376864769382543, 1.114772751111982, 1.0949348061206505, 1.1266642482347395, 1.2529527470538593, 1.2170661738642217, 0.91714567744209941, 1.1056303146211897, 1.2518166035748499, 1.0654152389784284, 1.1623843626495707, 1.4274328003467551, 1.2664364131086185, 1.3244081886994514, 1.2450844966253327, 1.384497760137293, 1.2174177190928548, 1.0983716342305814, 1.026956467464518, 1.3134388414925491, 1.1873114555269406, 1.0013938511516272, 1.1942401796132414, 1.1141026221081984, 1.0180803272862593, 1.3474182364736791, 1.1834334786756668, 1.244006914883887, 1.1999864965065095, 1.3941069804568624, 1.184567642698064, 1.2299530147483393, 1.0515726001059613, 1.132741945387773, 0.86161983176353996, 1.0418831355995197, 1.0314352118702204, 1.2652728349633127, 1.0295891261203118, 1.1857991629274987, 0.9932223458504329, 1.2646117406342066, 1.1310683410619338, 1.0209739818032066, 1.2085080415339473, 1.2501173152620912, 1.1038033424219929, 1.0500271265968211, 1.1098521852009422, 1.0995891065230956, 1.0851134959083197, 1.004617491348974, 1.117862809582125, 1.2224697509586879, 1.045852271920926, 0.97687300134818122, 1.0912604126478931, 1.1229172135578869, 0.96778325574626223, 0.96704965509517316, 1.1920046980073975, 1.0901253076957518, 1.2448924643130836, 1.0202505149643539, 1.1276128637612544, 1.281235288200208, 1.1822811204767163, 1.2391187308573324, 1.2527059299871861, 1.472255037943659, 1.1404160045869252, 1.1101474431221703, 0.98671522359946062, 1.1069036388334661, 1.2342194758904721, 1.2808496506913689, 0.94628356906635069, 1.1361272157790476, 1.2274358641191765, 1.1064793943265325, 1.2586039987631215, 1.2254558465176155, 1.1113790360029403, 1.3127958796255952, 1.141447457213681, 1.2428100343457196, 1.2557250633441923, 1.0712178634973919, 1.3268639084415588, 1.3213415131802395, 1.0941508791106205, 0.93700458370034956, 1.0741023035186374, 1.0554680496002709, 0.99065200412807486, 1.3407468247232408, 1.0929584592642687, 1.2526027194576939, 1.0378110919985042, 1.07029790587991, 1.085574333922579, 1.127599441622543, 0.89256019861168256, 1.418934092800239, 1.2225489385737096, 1.1738681500026351, 1.0480400872318092, 1.1062284734651389, 0.98413408163802518, 1.0251769840158702, 0.97463884945226242, 1.483678546416618, 1.2150560130957087, 1.1436565737061435, 1.1413000587080406, 1.2131292590454379, 1.2043514007144569, 0.98658178210580261, 1.2166835753627121, 1.2576695776835924, 1.1986778786573471, 1.1039103100028591, 1.1760294897748085, 1.1383988714633506, 0.9278851109469044, 1.0480947388531943, 1.307829359747178, 1.1341931921993207, 0.91121078719677606, 1.2473285344191922, 1.1262591619343669, 1.0107413567200907, 1.1598416593683791, 1.3018852477249221, 1.1708645997235634, 1.0518299553392019, 1.1476915006790362, 1.0961769036597064, 1.0243749748732061, 1.1446144866798154, 1.0770675491481252, 0.99301785724067149, 0.96804347622660891, 0.99700853665001532, 1.2815560348378738, 1.1591304833024425, 1.1063738580343352, 1.5234880859518181, 1.1861072338582732, 1.0813436875943947, 1.4127283875770655, 1.1147168645863621, 1.371503986824868, 0.86168668641963519, 1.0583489381338693, 1.1273313943591481, 1.5822708964437153, 1.146756700068994, 1.1284689889522674, 1.1710266265380582, 1.1868802091918942, 1.101759172524843, 1.0472384244560164, 1.1147494089600225, 1.2136278939884637, 1.2366141308708196, 1.0835361530604437, 1.2530767163811141, 1.1343887426777945, 1.3013986557544104, 1.1487302171641478, 0.98729436477471111, 1.270895714040662, 1.1836113727326314, 1.2217568611282266, 1.2375831799762436, 1.1868863492372768, 1.0242555155646786, 1.1669904285600869, 0.99246528581424465, 1.1311395184626749, 1.1554278011151196, 1.0907480444397553, 1.1978362539304688, 1.306081833539702, 1.0924956453842398, 1.2981877595135816, 1.1350795347362257, 1.0750210254595574, 0.99242076312830207, 1.1568087148447268, 1.2366812662631446, 1.3837623627235671, 1.1347595116585709, 1.1415485791973936, 1.0639954202805137, 1.1563017766020982, 1.4262077914736737, 1.0683899351006212, 1.1040012369925689, 1.1172071400983028, 1.0337752675913556, 1.1700303574331623, 1.1663370805284041, 1.5337696203951303, 1.1560694651689261, 1.0913797851572367, 1.0353302690876425, 1.1027423196850064, 1.2833478782432888, 1.3362295988764601, 1.097826402357611, 1.1691803172871318, 1.2727107107393123, 1.0186899810762757, 1.1420336683664576, 1.1286591361844054, 1.1231306965513572, 1.1117742803056494, 0.90017925377807273, 1.145824150355335, 1.1239801770113662, 1.243608598194059, 1.0797771556076285, 1.2890312975603704, 1.3123298903407246, 0.95631168621463014, 1.0307855338346021, 1.0419504363679166, 1.1460853518522405, 1.0881325143684555, 1.3098617341679146, 1.1798482905740102, 1.3841056230461466, 1.1554706260600718, 1.0147129473781951, 1.1895095682219832, 0.9709288029005162, 1.0658503801399166, 0.99357972823528862, 1.1009314363053648, 1.1244178909289704, 0.97637237738046223, 0.93582208854969839, 1.0243285145162302, 0.88349259088644716, 1.0015926336471734, 1.1031331235470188, 1.2094704290539031, 1.1469432774078701, 1.1685206865261686, 0.93635165010283172, 1.0660547319720872, 1.1358269261020453, 1.0731943973881497, 1.2050436550767654, 1.2483516378874735, 0.9948770829261645, 1.0202268598472759, 1.0386759305698967, 1.3231051539063214, 1.0889533776861759, 1.2525117989853747, 1.2944050194150516, 1.1250240294615808, 1.1264971286775405, 1.1879206822300643, 1.1483605391253202, 1.1996551131137787, 1.1694050672730285, 1.1655755013049385, 1.083877892199913, 1.1876589494320349, 1.0902168940565271, 1.1755794105113604, 1.0263833036364511, 1.282122351762552, 0.92043430835678031, 1.273727692848581, 1.2010342680765553, 1.0582537082416903, 1.1356536931893781, 1.1332830632491655, 1.17178054450724, 1.268040190779236, 1.0884338312068456, 1.1155382499623769, 0.99704663828566076, 1.0874359938318376, 1.16222017308521, 1.3256621617820159, 1.1455166676606481, 1.0130197994727081, 0.98048105430873966, 1.4344938610504505, 1.0130385723843809, 1.1958797080629799, 1.1439627695389909, 1.0561034652445316, 1.0438622030003659, 1.1432122574524399, 1.3377507684602834, 1.2610704872193987, 1.162637701640943, 1.0611363529184681, 1.4597662225934906, 1.1685662335388201, 1.1424620330095769, 1.3936882375686748, 1.0572539365093012, 1.0845912680882122, 0.90238995649340226, 1.0480694148591314, 1.2886753648425269, 1.1358558000884766, 1.1910736151469694, 1.1499532649294808, 0.94845719802623207, 1.0479811430712767, 1.151634387166933, 1.1051351632982618, 1.0608004145284318, 1.214040341031881, 0.99656067489226563, 1.1510365933147944, 1.0946867838979553, 1.2434294556400152, 1.1205925483331609, 1.0429985189802384, 1.0715959883723576, 1.1559002353967571, 0.93462570557538749, 1.2207248832972455, 1.1234654442904328, 1.2551312522276155, 0.99873170331949324, 1.1839361997953601, 1.1663259050812573, 1.0261945264969146, 1.1216879965158524, 0.94151448125341364, 1.0030540794570204, 1.1622082612842406, 1.1017591549805403, 0.98488047412465696, 1.0756048260516533, 1.1992986412864781, 1.0696004966934201, 1.1527747733491165, 1.5043725686283143, 1.0989990956603901, 1.1022234462978397, 1.2193708979305966, 0.85527311406020268, 1.060184600123349, 0.8500490517440602, 1.1872360080688396, 1.1705071882209297, 1.2090207400903634, 1.3064526977930859, 1.167958062660063, 0.99822358675607359, 0.92866442270922145, 1.1553810071675552, 1.2161976380973718, 0.99626670497587411, 1.1938406123732883, 1.213521492086975, 1.0114828556872939, 0.96653477254191911, 1.157042824723481, 1.1212550215111075, 1.2323213492004084, 1.0924274534566083, 0.94831509044405438, 1.0246456017766647, 1.2768571052945519, 1.0231842204289967, 1.1713835204256438, 1.2989221654604457, 1.1708429107823259, 1.1212518378929461, 1.1109812544264703, 1.3006022601336462, 1.0732964189603549, 1.1350573293203823, 1.2386997536558737, 1.1198087029450299, 1.0373191338770356, 1.1709278932278997, 1.2305083878928826, 1.0023122523073973, 1.053212247335519, 1.0821165238955166, 1.2239846515419921, 1.212098440818427, 1.2531924549706945, 1.3053464319901729, 1.0664613211673142, 1.0869455048201544, 1.0319990072811074, 1.2268298773219961, 1.2956361858567507, 1.0077830538181465, 1.1217433552895795, 1.0587440825055692, 1.1875266670123439, 1.1973186903494151, 1.0864620978786415, 1.0196850401954296, 0.9196629055677602, 1.0513923440259587, 1.2195333039662548, 1.160944024694285, 1.2329164315179435, 1.0661183402170287, 0.87408856622105591, 1.089399772086894, 1.2485244249408913, 1.2499134470935425, 1.2244018227679232, 1.2872820412058439, 0.97185857067478398, 1.1877848925965386, 1.1640773378479199, 1.0733637755941114, 1.0314706719979256, 1.2737248212922494, 1.1855409644199837, 1.2308770670756732, 1.1283657272046905, 1.4323262034839166, 0.96600648433822356, 1.3030221796949333, 1.2422449828179114, 1.2758813957913044, 1.2567538048463629, 1.1579376169176725, 1.2728702774606773, 1.1720971072926289, 1.3357234245555414, 1.2434763468850161, 1.2159071661567036, 1.0956611741579252, 1.2670875639893484, 1.0903313016820366, 0.97166654001731201, 1.1797951769945247, 1.1408274341169835, 1.1168051170016962, 0.91406833611460858, 0.97269500962877453, 1.214921647803737, 1.3199705917081188, 1.2462836501561243, 1.2431642608579831, 1.1018121137922976, 1.114378970709863, 1.2142360439604571, 1.1064758963737948, 1.2187108638325475, 1.1720211789923629, 1.1898271006369676, 1.0487040235415059, 1.0689122739347239, 1.1258781330298135, 1.1057069201521827, 1.1518151867168156, 1.0545046331998933, 0.9802306382061724, 1.2141247278434841, 1.060849632653756, 1.2357650041986661, 1.3172432606969244, 1.235750856274467, 1.2118893519389442, 0.86659744003634664, 1.1930047641798516, 0.99640381128302424, 1.2156385769040534, 1.2397620246735086, 1.245288420803365, 1.2036082511078163, 1.1063327427332268, 1.2315914794648917, 1.204240228960004, 1.1948443020846322, 1.1326846280428016, 1.3424645370553538, 1.1555596068454554, 1.0637603615795461, 1.0652162044930418, 1.1697427071468722, 1.2545666605903136, 1.1998640586653664, 1.249411231956028, 1.243450827006241, 1.1705252049700927, 1.1431308723754634, 1.1458760583421068, 1.1823754327209128, 1.1013544858410655, 1.0342500604542364, 1.2758384503117586, 1.1918038268260349, 1.2796356076243534, 1.283082592644059, 1.1809430362730191, 1.2145482451557468, 1.1517855660972076, 1.1235339566347871, 1.1823623372764567, 1.0669325581506284, 0.86613248916139618, 1.0415303844349297, 1.1702026926383462, 1.1659166833975747, 1.1897352685467906, 1.3968886148256838, 1.0029917570015137, 0.97163850932949036, 0.95204537244580112, 1.0637864888208879, 1.2657427157999031, 1.1993523081428275, 0.93014449976035429, 1.3152126468688181, 1.2593815644805508, 1.1655340633401001, 1.1647134793567828, 1.0898552680222662, 1.0034644953169354, 1.1093850759697792, 1.1259939354142154, 1.1107732976288069, 1.226164793746586, 1.0348277398761949, 1.3935687579285878, 1.3615006705572665, 1.1206965642649793, 1.0733868751257285, 1.0152015353079009, 1.0872038701228774, 1.1158781164396792, 1.1936763389077252, 1.2803042784554652, 1.1799277725366453, 1.2378122488895453, 1.2716294623891515, 1.1942731108554481, 1.0472290372225934, 1.3184129525783586, 1.2630065783794036, 0.85077282361886486, 1.301780912322152, 1.1893100947505775, 1.1046604998131186, 1.0323252252351398, 1.1588732492806788, 1.1001033210215061, 1.166459143116841, 1.009246989788865, 1.2133505613873192, 1.1978138325688461, 1.1818609441412593, 1.3578433792089828, 1.2843724911988323, 1.0930655561589651, 1.1680623792247329, 1.0080929358635875, 1.0436302834581095, 1.1875413297627642, 1.149186573977649, 1.0235828407505341, 1.1780013376508398, 1.1629897171613648, 1.1890242721976796, 1.0105932227676555, 1.2062048042509359, 1.0232801862717649, 1.1788541502293306, 0.99327611998628895, 0.93664913330631749, 1.1534966647724003, 1.0714994772102251, 1.2203743517452781, 0.93373389721050593, 1.0067076034512155, 1.0723471543584076, 1.3392899967778771, 0.95339532756239309, 1.3250917141491902, 1.2157679855861201, 1.0919914418683005, 1.0613340906901942, 1.0995232301461062, 1.0980640843035985, 0.99611687011325134, 1.1585840489209756, 1.1099586245290167, 1.0515976087385814, 1.1683684845133717, 1.0084181591980292, 1.1380926367140314, 1.1662781935959787, 1.2524888132076806, 1.220270866788671, 1.3971759091625566, 1.3551030946246483, 1.3341708593498898, 1.3098230251526968, 1.3315380583938341, 1.1224350759800299, 0.77920103520392381, 1.135292847213752, 1.1585713074090247, 1.0504826721417535, 1.0470655879275659, 0.97033858304433185, 1.0890634603784175, 1.3381617465721605, 1.0701514685841276, 1.0094400845109479, 0.94515679682708542, 1.0515149068356122, 1.1458521485713999, 1.2860244378172359, 1.1421702703452434, 0.94128071998469298, 1.245137642797973, 0.94555404029727685, 1.0148794490640862, 1.0710398106828487, 1.0938265549243857, 1.2622174798753338, 1.1856823464580799, 1.256750426523862, 1.2146656476795681, 1.2307281960823759, 1.0996324847138994, 1.1611558989357598, 1.1534277604443623, 0.80689488047264346, 1.2712179998753095, 1.1517014924162747, 1.1860420724366316, 1.1540597922131426, 1.0974130107648605, 1.1003182973330823, 0.85126926177425966, 1.1276574176665559, 1.1260278729938176, 1.0517969144417112, 0.97181716783095295, 1.2349416284248103, 1.2616639310913709, 1.1139052997010765, 1.0279058201612425, 1.3061488655105331, 1.2864199414473529, 1.0850114454326967, 1.1539126579423842, 1.0579437145009394, 1.0750763462323283, 1.2228925245348992, 0.95814063903497237, 0.93897960575385642, 1.1195945919024151, 1.1954763593679725, 0.94040764780179864, 1.0818588706495691, 1.2813089692806485, 1.1476092547166188, 1.0139546448740981, 1.1817502417216215, 1.230911051522821, 1.1050455931718479, 1.359485587246865, 1.2537106691681774, 1.1431657747023136, 1.2824040221608701, 1.0507859444420664, 1.0974935602879523, 1.1742624099863062, 1.3442033408683998, 1.4176161467973369, 1.1748804243439728, 1.225441666813526, 1.1866835623031109, 1.090007527246643, 1.1489633670224195, 1.2621389641266449, 1.3094985229495779, 1.0220306004223592, 1.0928660524386027, 1.2509381745879162, 1.040577337307826, 1.1928938675142189, 1.3359267105731993, 1.3695947039890444, 1.1619069234453845, 1.2707872852321795, 1.2736931853171056, 1.1597440778111856, 1.1050501059619755, 1.1139126747746486, 1.2964593821656392, 1.2262857989481157, 1.0451061137531112, 1.169319616347783, 1.1981293770211878, 1.2269893383353847, 1.0673884004345884, 1.1050167516056204, 1.092952610632385, 1.2119243664102275, 1.1573692738890011, 1.0777155063149872, 1.1690729619269316, 1.1380319262422784, 1.1690328090892392, 1.3262568565363708, 1.2254200062733893, 0.97395153245597044, 0.9945016793099023, 1.1734685629649892, 1.2644837655933971, 1.1701920777664214, 1.142013744123697, 1.1103726076717633, 1.2228089494876615]\n"
     ]
    },
    {
     "data": {
      "image/png": "[encoded data removed]",
      "text/plain": [
       "<matplotlib.figure.Figure at 0x7fd24d1d87f0>"
      ]
     },
     "metadata": {},
     "output_type": "display_data"
    }
   ],
   "source": [
    "# Run this cell to visualize training loss and train / val accuracy\n",
    "\n",
    "plt.subplot(2, 1, 1)\n",
    "plt.title('Training loss')\n",
    "plt.plot(solver.loss_history, 'o')\n",
    "plt.xlabel('Iteration')\n",
    "\n",
    "plt.subplot(2, 1, 2)\n",
    "plt.title('Accuracy')\n",
    "plt.plot(solver.train_acc_history, '-o', label='train')\n",
    "plt.plot(solver.val_acc_history, '-o', label='val')\n",
    "plt.plot([0.5] * len(solver.val_acc_history), 'k--')\n",
    "plt.xlabel('Epoch')\n",
    "plt.legend(loc='lower right')\n",
    "plt.gcf().set_size_inches(15, 12)\n",
    "plt.show()"
   ]
  },
  {
   "cell_type": "markdown",
   "metadata": {},
   "source": [
    "# Multilayer network\n",
    "Next you will implement a fully-connected network with an arbitrary number of hidden layers.\n",
    "\n",
    "Read through the `FullyConnectedNet` class in the file `cs231n/classifiers/fc_net.py`.\n",
    "\n",
    "Implement the initialization, the forward pass, and the backward pass. For the moment don't worry about implementing dropout or batch/layer normalization; we will add those features soon."
   ]
  },
  {
   "cell_type": "markdown",
   "metadata": {},
   "source": [
    "## Initial loss and gradient check"
   ]
  },
  {
   "cell_type": "markdown",
   "metadata": {},
   "source": [
    "As a sanity check, run the following to check the initial loss and to gradient check the network both with and without regularization. Do the initial losses seem reasonable?\n",
    "\n",
    "For gradient checking, you should expect to see errors around 1e-7 or less."
   ]
  },
  {
   "cell_type": "code",
   "execution_count": null,
   "metadata": {
    "collapsed": true
   },
   "outputs": [],
   "source": [
    "np.random.seed(231)\n",
    "N, D, H1, H2, C = 2, 15, 20, 30, 10\n",
    "X = np.random.randn(N, D)\n",
    "y = np.random.randint(C, size=(N,))\n",
    "\n",
    "for reg in [0, 3.14]:\n",
    "  print('Running check with reg = ', reg)\n",
    "  model = FullyConnectedNet([H1, H2], input_dim=D, num_classes=C,\n",
    "                            reg=reg, weight_scale=5e-2, dtype=np.float64)\n",
    "\n",
    "  loss, grads = model.loss(X, y)\n",
    "  print('Initial loss: ', loss)\n",
    "  \n",
    "  # Most of the errors should be on the order of e-7 or smaller.   \n",
    "  # NOTE: It is fine however to see an error for W2 on the order of e-5\n",
    "  # for the check when reg = 0.0\n",
    "  for name in sorted(grads):\n",
    "    f = lambda _: model.loss(X, y)[0]\n",
    "    grad_num = eval_numerical_gradient(f, model.params[name], verbose=False, h=1e-5)\n",
    "    print('%s relative error: %.2e' % (name, rel_error(grad_num, grads[name])))"
   ]
  },
  {
   "cell_type": "markdown",
   "metadata": {},
   "source": [
    "As another sanity check, make sure you can overfit a small dataset of 50 images. First we will try a three-layer network with 100 units in each hidden layer. In the following cell, tweak the learning rate and initialization scale to overfit and achieve 100% training accuracy within 20 epochs."
   ]
  },
  {
   "cell_type": "code",
   "execution_count": null,
   "metadata": {
    "collapsed": true,
    "scrolled": false
   },
   "outputs": [],
   "source": [
    "# TODO: Use a three-layer Net to overfit 50 training examples by \n",
    "# tweaking just the learning rate and initialization scale.\n",
    "\n",
    "num_train = 50\n",
    "small_data = {\n",
    "  'X_train': data['X_train'][:num_train],\n",
    "  'y_train': data['y_train'][:num_train],\n",
    "  'X_val': data['X_val'],\n",
    "  'y_val': data['y_val'],\n",
    "}\n",
    "\n",
    "weight_scale = 1e-2\n",
    "learning_rate = 1e-4\n",
    "model = FullyConnectedNet([100, 100],\n",
    "              weight_scale=weight_scale, dtype=np.float64)\n",
    "solver = Solver(model, small_data,\n",
    "                print_every=10, num_epochs=20, batch_size=25,\n",
    "                update_rule='sgd',\n",
    "                optim_config={\n",
    "                  'learning_rate': learning_rate,\n",
    "                }\n",
    "         )\n",
    "solver.train()\n",
    "\n",
    "plt.plot(solver.loss_history, 'o')\n",
    "plt.title('Training loss history')\n",
    "plt.xlabel('Iteration')\n",
    "plt.ylabel('Training loss')\n",
    "plt.show()"
   ]
  },
  {
   "cell_type": "markdown",
   "metadata": {},
   "source": [
    "Now try to use a five-layer network with 100 units on each layer to overfit 50 training examples. Again you will have to adjust the learning rate and weight initialization, but you should be able to achieve 100% training accuracy within 20 epochs."
   ]
  },
  {
   "cell_type": "code",
   "execution_count": null,
   "metadata": {
    "collapsed": true
   },
   "outputs": [],
   "source": [
    "# TODO: Use a five-layer Net to overfit 50 training examples by \n",
    "# tweaking just the learning rate and initialization scale.\n",
    "\n",
    "num_train = 50\n",
    "small_data = {\n",
    "  'X_train': data['X_train'][:num_train],\n",
    "  'y_train': data['y_train'][:num_train],\n",
    "  'X_val': data['X_val'],\n",
    "  'y_val': data['y_val'],\n",
    "}\n",
    "\n",
    "learning_rate = 2e-3\n",
    "weight_scale = 1e-5\n",
    "model = FullyConnectedNet([100, 100, 100, 100],\n",
    "                weight_scale=weight_scale, dtype=np.float64)\n",
    "solver = Solver(model, small_data,\n",
    "                print_every=10, num_epochs=20, batch_size=25,\n",
    "                update_rule='sgd',\n",
    "                optim_config={\n",
    "                  'learning_rate': learning_rate,\n",
    "                }\n",
    "         )\n",
    "solver.train()\n",
    "\n",
    "plt.plot(solver.loss_history, 'o')\n",
    "plt.title('Training loss history')\n",
    "plt.xlabel('Iteration')\n",
    "plt.ylabel('Training loss')\n",
    "plt.show()"
   ]
  },
  {
   "cell_type": "markdown",
   "metadata": {},
   "source": [
    "## Inline Question 2: \n",
    "Did you notice anything about the comparative difficulty of training the three-layer net vs training the five layer net? In particular, based on your experience, which network seemed more sensitive to the initialization scale? Why do you think that is the case?"
   ]
  },
  {
   "cell_type": "markdown",
   "metadata": {},
   "source": [
    "## Answer:\n",
    "[FILL THIS IN]\n"
   ]
  },
  {
   "cell_type": "markdown",
   "metadata": {},
   "source": [
    "# Update rules\n",
    "So far we have used vanilla stochastic gradient descent (SGD) as our update rule. More sophisticated update rules can make it easier to train deep networks. We will implement a few of the most commonly used update rules and compare them to vanilla SGD."
   ]
  },
  {
   "cell_type": "markdown",
   "metadata": {},
   "source": [
    "# SGD+Momentum\n",
    "Stochastic gradient descent with momentum is a widely used update rule that tends to make deep networks converge faster than vanilla stochastic gradient descent. See the Momentum Update section at http://cs231n.github.io/neural-networks-3/#sgd for more information.\n",
    "\n",
    "Open the file `cs231n/optim.py` and read the documentation at the top of the file to make sure you understand the API. Implement the SGD+momentum update rule in the function `sgd_momentum` and run the following to check your implementation. You should see errors less than e-8."
   ]
  },
  {
   "cell_type": "code",
   "execution_count": null,
   "metadata": {
    "collapsed": true
   },
   "outputs": [],
   "source": [
    "from cs231n.optim import sgd_momentum\n",
    "\n",
    "N, D = 4, 5\n",
    "w = np.linspace(-0.4, 0.6, num=N*D).reshape(N, D)\n",
    "dw = np.linspace(-0.6, 0.4, num=N*D).reshape(N, D)\n",
    "v = np.linspace(0.6, 0.9, num=N*D).reshape(N, D)\n",
    "\n",
    "config = {'learning_rate': 1e-3, 'velocity': v}\n",
    "next_w, _ = sgd_momentum(w, dw, config=config)\n",
    "\n",
    "expected_next_w = np.asarray([\n",
    "  [ 0.1406,      0.20738947,  0.27417895,  0.34096842,  0.40775789],\n",
    "  [ 0.47454737,  0.54133684,  0.60812632,  0.67491579,  0.74170526],\n",
    "  [ 0.80849474,  0.87528421,  0.94207368,  1.00886316,  1.07565263],\n",
    "  [ 1.14244211,  1.20923158,  1.27602105,  1.34281053,  1.4096    ]])\n",
    "expected_velocity = np.asarray([\n",
    "  [ 0.5406,      0.55475789,  0.56891579, 0.58307368,  0.59723158],\n",
    "  [ 0.61138947,  0.62554737,  0.63970526,  0.65386316,  0.66802105],\n",
    "  [ 0.68217895,  0.69633684,  0.71049474,  0.72465263,  0.73881053],\n",
    "  [ 0.75296842,  0.76712632,  0.78128421,  0.79544211,  0.8096    ]])\n",
    "\n",
    "# Should see relative errors around e-8 or less\n",
    "print('next_w error: ', rel_error(next_w, expected_next_w))\n",
    "print('velocity error: ', rel_error(expected_velocity, config['velocity']))"
   ]
  },
  {
   "cell_type": "markdown",
   "metadata": {},
   "source": [
    "Once you have done so, run the following to train a six-layer network with both SGD and SGD+momentum. You should see the SGD+momentum update rule converge faster."
   ]
  },
  {
   "cell_type": "code",
   "execution_count": null,
   "metadata": {
    "collapsed": true,
    "scrolled": false
   },
   "outputs": [],
   "source": [
    "num_train = 4000\n",
    "small_data = {\n",
    "  'X_train': data['X_train'][:num_train],\n",
    "  'y_train': data['y_train'][:num_train],\n",
    "  'X_val': data['X_val'],\n",
    "  'y_val': data['y_val'],\n",
    "}\n",
    "\n",
    "solvers = {}\n",
    "\n",
    "for update_rule in ['sgd', 'sgd_momentum']:\n",
    "  print('running with ', update_rule)\n",
    "  model = FullyConnectedNet([100, 100, 100, 100, 100], weight_scale=5e-2)\n",
    "\n",
    "  solver = Solver(model, small_data,\n",
    "                  num_epochs=5, batch_size=100,\n",
    "                  update_rule=update_rule,\n",
    "                  optim_config={\n",
    "                    'learning_rate': 1e-2,\n",
    "                  },\n",
    "                  verbose=True)\n",
    "  solvers[update_rule] = solver\n",
    "  solver.train()\n",
    "  print()\n",
    "\n",
    "plt.subplot(3, 1, 1)\n",
    "plt.title('Training loss')\n",
    "plt.xlabel('Iteration')\n",
    "\n",
    "plt.subplot(3, 1, 2)\n",
    "plt.title('Training accuracy')\n",
    "plt.xlabel('Epoch')\n",
    "\n",
    "plt.subplot(3, 1, 3)\n",
    "plt.title('Validation accuracy')\n",
    "plt.xlabel('Epoch')\n",
    "\n",
    "for update_rule, solver in list(solvers.items()):\n",
    "  plt.subplot(3, 1, 1)\n",
    "  plt.plot(solver.loss_history, 'o', label=update_rule)\n",
    "  \n",
    "  plt.subplot(3, 1, 2)\n",
    "  plt.plot(solver.train_acc_history, '-o', label=update_rule)\n",
    "\n",
    "  plt.subplot(3, 1, 3)\n",
    "  plt.plot(solver.val_acc_history, '-o', label=update_rule)\n",
    "  \n",
    "for i in [1, 2, 3]:\n",
    "  plt.subplot(3, 1, i)\n",
    "  plt.legend(loc='upper center', ncol=4)\n",
    "plt.gcf().set_size_inches(15, 15)\n",
    "plt.show()"
   ]
  },
  {
   "cell_type": "markdown",
   "metadata": {},
   "source": [
    "# RMSProp and Adam\n",
    "RMSProp [1] and Adam [2] are update rules that set per-parameter learning rates by using a running average of the second moments of gradients.\n",
    "\n",
    "In the file `cs231n/optim.py`, implement the RMSProp update rule in the `rmsprop` function and implement the Adam update rule in the `adam` function, and check your implementations using the tests below.\n",
    "\n",
    "**NOTE:** Please implement the _complete_ Adam update rule (with the bias correction mechanism), not the first simplified version mentioned in the course notes. \n",
    "\n",
    "[1] Tijmen Tieleman and Geoffrey Hinton. \"Lecture 6.5-rmsprop: Divide the gradient by a running average of its recent magnitude.\" COURSERA: Neural Networks for Machine Learning 4 (2012).\n",
    "\n",
    "[2] Diederik Kingma and Jimmy Ba, \"Adam: A Method for Stochastic Optimization\", ICLR 2015."
   ]
  },
  {
   "cell_type": "code",
   "execution_count": null,
   "metadata": {
    "collapsed": true
   },
   "outputs": [],
   "source": [
    "# Test RMSProp implementation\n",
    "from cs231n.optim import rmsprop\n",
    "\n",
    "N, D = 4, 5\n",
    "w = np.linspace(-0.4, 0.6, num=N*D).reshape(N, D)\n",
    "dw = np.linspace(-0.6, 0.4, num=N*D).reshape(N, D)\n",
    "cache = np.linspace(0.6, 0.9, num=N*D).reshape(N, D)\n",
    "\n",
    "config = {'learning_rate': 1e-2, 'cache': cache}\n",
    "next_w, _ = rmsprop(w, dw, config=config)\n",
    "\n",
    "expected_next_w = np.asarray([\n",
    "  [-0.39223849, -0.34037513, -0.28849239, -0.23659121, -0.18467247],\n",
    "  [-0.132737,   -0.08078555, -0.02881884,  0.02316247,  0.07515774],\n",
    "  [ 0.12716641,  0.17918792,  0.23122175,  0.28326742,  0.33532447],\n",
    "  [ 0.38739248,  0.43947102,  0.49155973,  0.54365823,  0.59576619]])\n",
    "expected_cache = np.asarray([\n",
    "  [ 0.5976,      0.6126277,   0.6277108,   0.64284931,  0.65804321],\n",
    "  [ 0.67329252,  0.68859723,  0.70395734,  0.71937285,  0.73484377],\n",
    "  [ 0.75037008,  0.7659518,   0.78158892,  0.79728144,  0.81302936],\n",
    "  [ 0.82883269,  0.84469141,  0.86060554,  0.87657507,  0.8926    ]])\n",
    "\n",
    "# You should see relative errors around e-7 or less\n",
    "print('next_w error: ', rel_error(expected_next_w, next_w))\n",
    "print('cache error: ', rel_error(expected_cache, config['cache']))"
   ]
  },
  {
   "cell_type": "code",
   "execution_count": null,
   "metadata": {
    "collapsed": true
   },
   "outputs": [],
   "source": [
    "# Test Adam implementation\n",
    "from cs231n.optim import adam\n",
    "\n",
    "N, D = 4, 5\n",
    "w = np.linspace(-0.4, 0.6, num=N*D).reshape(N, D)\n",
    "dw = np.linspace(-0.6, 0.4, num=N*D).reshape(N, D)\n",
    "m = np.linspace(0.6, 0.9, num=N*D).reshape(N, D)\n",
    "v = np.linspace(0.7, 0.5, num=N*D).reshape(N, D)\n",
    "\n",
    "config = {'learning_rate': 1e-2, 'm': m, 'v': v, 't': 5}\n",
    "next_w, _ = adam(w, dw, config=config)\n",
    "\n",
    "expected_next_w = np.asarray([\n",
    "  [-0.40094747, -0.34836187, -0.29577703, -0.24319299, -0.19060977],\n",
    "  [-0.1380274,  -0.08544591, -0.03286534,  0.01971428,  0.0722929],\n",
    "  [ 0.1248705,   0.17744702,  0.23002243,  0.28259667,  0.33516969],\n",
    "  [ 0.38774145,  0.44031188,  0.49288093,  0.54544852,  0.59801459]])\n",
    "expected_v = np.asarray([\n",
    "  [ 0.69966,     0.68908382,  0.67851319,  0.66794809,  0.65738853,],\n",
    "  [ 0.64683452,  0.63628604,  0.6257431,   0.61520571,  0.60467385,],\n",
    "  [ 0.59414753,  0.58362676,  0.57311152,  0.56260183,  0.55209767,],\n",
    "  [ 0.54159906,  0.53110598,  0.52061845,  0.51013645,  0.49966,   ]])\n",
    "expected_m = np.asarray([\n",
    "  [ 0.48,        0.49947368,  0.51894737,  0.53842105,  0.55789474],\n",
    "  [ 0.57736842,  0.59684211,  0.61631579,  0.63578947,  0.65526316],\n",
    "  [ 0.67473684,  0.69421053,  0.71368421,  0.73315789,  0.75263158],\n",
    "  [ 0.77210526,  0.79157895,  0.81105263,  0.83052632,  0.85      ]])\n",
    "\n",
    "# You should see relative errors around e-7 or less\n",
    "print('next_w error: ', rel_error(expected_next_w, next_w))\n",
    "print('v error: ', rel_error(expected_v, config['v']))\n",
    "print('m error: ', rel_error(expected_m, config['m']))"
   ]
  },
  {
   "cell_type": "markdown",
   "metadata": {},
   "source": [
    "Once you have debugged your RMSProp and Adam implementations, run the following to train a pair of deep networks using these new update rules:"
   ]
  },
  {
   "cell_type": "code",
   "execution_count": null,
   "metadata": {
    "collapsed": true
   },
   "outputs": [],
   "source": [
    "learning_rates = {'rmsprop': 1e-4, 'adam': 1e-3}\n",
    "for update_rule in ['adam', 'rmsprop']:\n",
    "  print('running with ', update_rule)\n",
    "  model = FullyConnectedNet([100, 100, 100, 100, 100], weight_scale=5e-2)\n",
    "\n",
    "  solver = Solver(model, small_data,\n",
    "                  num_epochs=5, batch_size=100,\n",
    "                  update_rule=update_rule,\n",
    "                  optim_config={\n",
    "                    'learning_rate': learning_rates[update_rule]\n",
    "                  },\n",
    "                  verbose=True)\n",
    "  solvers[update_rule] = solver\n",
    "  solver.train()\n",
    "  print()\n",
    "\n",
    "plt.subplot(3, 1, 1)\n",
    "plt.title('Training loss')\n",
    "plt.xlabel('Iteration')\n",
    "\n",
    "plt.subplot(3, 1, 2)\n",
    "plt.title('Training accuracy')\n",
    "plt.xlabel('Epoch')\n",
    "\n",
    "plt.subplot(3, 1, 3)\n",
    "plt.title('Validation accuracy')\n",
    "plt.xlabel('Epoch')\n",
    "\n",
    "for update_rule, solver in list(solvers.items()):\n",
    "  plt.subplot(3, 1, 1)\n",
    "  plt.plot(solver.loss_history, 'o', label=update_rule)\n",
    "  \n",
    "  plt.subplot(3, 1, 2)\n",
    "  plt.plot(solver.train_acc_history, '-o', label=update_rule)\n",
    "\n",
    "  plt.subplot(3, 1, 3)\n",
    "  plt.plot(solver.val_acc_history, '-o', label=update_rule)\n",
    "  \n",
    "for i in [1, 2, 3]:\n",
    "  plt.subplot(3, 1, i)\n",
    "  plt.legend(loc='upper center', ncol=4)\n",
    "plt.gcf().set_size_inches(15, 15)\n",
    "plt.show()"
   ]
  },
  {
   "cell_type": "markdown",
   "metadata": {},
   "source": [
    "## Inline Question 3:\n",
    "\n",
    "AdaGrad, like Adam, is a per-parameter optimization method that uses the following update rule:\n",
    "\n",
    "```\n",
    "cache += dw**2\n",
    "w += - learning_rate * dw / (np.sqrt(cache) + eps)\n",
    "```\n",
    "\n",
    "John notices that when he was training a network with AdaGrad that the updates became very small, and that his network was learning slowly. Using your knowledge of the AdaGrad update rule, why do you think the updates would become very small? Would Adam have the same issue?\n"
   ]
  },
  {
   "cell_type": "markdown",
   "metadata": {},
   "source": [
    "## Answer: \n"
   ]
  },
  {
   "cell_type": "markdown",
   "metadata": {},
   "source": [
    "# Train a good model!\n",
    "Train the best fully-connected model that you can on CIFAR-10, storing your best model in the `best_model` variable. We require you to get at least 50% accuracy on the validation set using a fully-connected net.\n",
    "\n",
    "If you are careful it should be possible to get accuracies above 55%, but we don't require it for this part and won't assign extra credit for doing so. Later in the assignment we will ask you to train the best convolutional network that you can on CIFAR-10, and we would prefer that you spend your effort working on convolutional nets rather than fully-connected nets.\n",
    "\n",
    "You might find it useful to complete the `BatchNormalization.ipynb` and `Dropout.ipynb` notebooks before completing this part, since those techniques can help you train powerful models."
   ]
  },
  {
   "cell_type": "code",
   "execution_count": null,
   "metadata": {
    "collapsed": true,
    "scrolled": false
   },
   "outputs": [],
   "source": [
    "best_model = None\n",
    "################################################################################\n",
    "# TODO: Train the best FullyConnectedNet that you can on CIFAR-10. You might   #\n",
    "# find batch/layer normalization and dropout useful. Store your best model in  #\n",
    "# the best_model variable.                                                     #\n",
    "################################################################################\n",
    "pass\n",
    "################################################################################\n",
    "#                              END OF YOUR CODE                                #\n",
    "################################################################################"
   ]
  },
  {
   "cell_type": "markdown",
   "metadata": {},
   "source": [
    "# Test your model!\n",
    "Run your best model on the validation and test sets. You should achieve above 50% accuracy on the validation set."
   ]
  },
  {
   "cell_type": "code",
   "execution_count": null,
   "metadata": {
    "collapsed": true
   },
   "outputs": [],
   "source": [
    "y_test_pred = np.argmax(best_model.loss(data['X_test']), axis=1)\n",
    "y_val_pred = np.argmax(best_model.loss(data['X_val']), axis=1)\n",
    "print('Validation set accuracy: ', (y_val_pred == data['y_val']).mean())\n",
    "print('Test set accuracy: ', (y_test_pred == data['y_test']).mean())"
   ]
  }
 ],
 "metadata": {
  "kernelspec": {
   "display_name": "Python 3",
   "language": "python",
   "name": "python3"
  },
  "language_info": {
   "codemirror_mode": {
    "name": "ipython",
    "version": 3
   },
   "file_extension": ".py",
   "mimetype": "text/x-python",
   "name": "python",
   "nbconvert_exporter": "python",
   "pygments_lexer": "ipython3",
   "version": "3.6.5"
  }
 },
 "nbformat": 4,
 "nbformat_minor": 2
}
